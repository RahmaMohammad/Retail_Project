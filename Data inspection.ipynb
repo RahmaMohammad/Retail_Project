{
 "cells": [
  {
   "cell_type": "code",
   "execution_count": 1,
   "id": "c94ba68e-8699-431a-8866-8b70aebd81a8",
   "metadata": {},
   "outputs": [
    {
     "name": "stdout",
     "output_type": "stream",
     "text": [
      "Libraries ready\n"
     ]
    }
   ],
   "source": [
    "import pandas as pd          # tables and data handling\n",
    "import numpy as np           # numbers and math\n",
    "import matplotlib.pyplot as plt  # charts\n",
    "\n",
    "print(\"Libraries ready\")"
   ]
  },
  {
   "cell_type": "code",
   "execution_count": 2,
   "id": "f5ce081f-dff1-47ef-acbe-bf64c366bb52",
   "metadata": {},
   "outputs": [
    {
     "name": "stdout",
     "output_type": "stream",
     "text": [
      "Sales data:\n"
     ]
    },
    {
     "data": {
      "text/html": [
       "<div>\n",
       "<style scoped>\n",
       "    .dataframe tbody tr th:only-of-type {\n",
       "        vertical-align: middle;\n",
       "    }\n",
       "\n",
       "    .dataframe tbody tr th {\n",
       "        vertical-align: top;\n",
       "    }\n",
       "\n",
       "    .dataframe thead th {\n",
       "        text-align: right;\n",
       "    }\n",
       "</style>\n",
       "<table border=\"1\" class=\"dataframe\">\n",
       "  <thead>\n",
       "    <tr style=\"text-align: right;\">\n",
       "      <th></th>\n",
       "      <th>order_id</th>\n",
       "      <th>order_date</th>\n",
       "      <th>store_id</th>\n",
       "      <th>customer_id</th>\n",
       "      <th>product_id</th>\n",
       "      <th>qty</th>\n",
       "      <th>unit_price</th>\n",
       "      <th>promo_code</th>\n",
       "      <th>line_total</th>\n",
       "      <th>payment_method</th>\n",
       "    </tr>\n",
       "  </thead>\n",
       "  <tbody>\n",
       "    <tr>\n",
       "      <th>0</th>\n",
       "      <td>300001</td>\n",
       "      <td>2024-01-01</td>\n",
       "      <td>201</td>\n",
       "      <td>5067</td>\n",
       "      <td>1009</td>\n",
       "      <td>1</td>\n",
       "      <td>36.48</td>\n",
       "      <td>WELCOME10</td>\n",
       "      <td>32.83</td>\n",
       "      <td>Card</td>\n",
       "    </tr>\n",
       "    <tr>\n",
       "      <th>1</th>\n",
       "      <td>300002</td>\n",
       "      <td>2024-01-01</td>\n",
       "      <td>201</td>\n",
       "      <td>5065</td>\n",
       "      <td>1019</td>\n",
       "      <td>1</td>\n",
       "      <td>51.61</td>\n",
       "      <td>NaN</td>\n",
       "      <td>51.61</td>\n",
       "      <td>Card</td>\n",
       "    </tr>\n",
       "    <tr>\n",
       "      <th>2</th>\n",
       "      <td>300003</td>\n",
       "      <td>2024-01-01</td>\n",
       "      <td>202</td>\n",
       "      <td>5033</td>\n",
       "      <td>1012</td>\n",
       "      <td>1</td>\n",
       "      <td>44.49</td>\n",
       "      <td>NaN</td>\n",
       "      <td>44.49</td>\n",
       "      <td>Tabby</td>\n",
       "    </tr>\n",
       "    <tr>\n",
       "      <th>3</th>\n",
       "      <td>300004</td>\n",
       "      <td>2024-01-01</td>\n",
       "      <td>204</td>\n",
       "      <td>5040</td>\n",
       "      <td>1009</td>\n",
       "      <td>1</td>\n",
       "      <td>35.1</td>\n",
       "      <td>WEEKEND5</td>\n",
       "      <td>33.34</td>\n",
       "      <td>Tabby</td>\n",
       "    </tr>\n",
       "    <tr>\n",
       "      <th>4</th>\n",
       "      <td>300005</td>\n",
       "      <td>2024-01-01</td>\n",
       "      <td>201</td>\n",
       "      <td>5074</td>\n",
       "      <td>1007</td>\n",
       "      <td>1</td>\n",
       "      <td>34.26</td>\n",
       "      <td>NaN</td>\n",
       "      <td>34.26</td>\n",
       "      <td>Tabby</td>\n",
       "    </tr>\n",
       "  </tbody>\n",
       "</table>\n",
       "</div>"
      ],
      "text/plain": [
       "   order_id  order_date  store_id  customer_id  product_id  qty unit_price  \\\n",
       "0    300001  2024-01-01       201         5067        1009    1      36.48   \n",
       "1    300002  2024-01-01       201         5065        1019    1      51.61   \n",
       "2    300003  2024-01-01       202         5033        1012    1      44.49   \n",
       "3    300004  2024-01-01       204         5040        1009    1       35.1   \n",
       "4    300005  2024-01-01       201         5074        1007    1      34.26   \n",
       "\n",
       "  promo_code  line_total payment_method  \n",
       "0  WELCOME10       32.83           Card  \n",
       "1        NaN       51.61           Card  \n",
       "2        NaN       44.49          Tabby  \n",
       "3   WEEKEND5       33.34          Tabby  \n",
       "4        NaN       34.26          Tabby  "
      ]
     },
     "metadata": {},
     "output_type": "display_data"
    },
    {
     "name": "stdout",
     "output_type": "stream",
     "text": [
      "\n",
      "Products data:\n"
     ]
    },
    {
     "data": {
      "text/html": [
       "<div>\n",
       "<style scoped>\n",
       "    .dataframe tbody tr th:only-of-type {\n",
       "        vertical-align: middle;\n",
       "    }\n",
       "\n",
       "    .dataframe tbody tr th {\n",
       "        vertical-align: top;\n",
       "    }\n",
       "\n",
       "    .dataframe thead th {\n",
       "        text-align: right;\n",
       "    }\n",
       "</style>\n",
       "<table border=\"1\" class=\"dataframe\">\n",
       "  <thead>\n",
       "    <tr style=\"text-align: right;\">\n",
       "      <th></th>\n",
       "      <th>product_id</th>\n",
       "      <th>product_name</th>\n",
       "      <th>category</th>\n",
       "      <th>brand</th>\n",
       "    </tr>\n",
       "  </thead>\n",
       "  <tbody>\n",
       "    <tr>\n",
       "      <th>0</th>\n",
       "      <td>1001</td>\n",
       "      <td>Aloe Hydrating Gel 100ml</td>\n",
       "      <td>Skincare</td>\n",
       "      <td>DermaGlow</td>\n",
       "    </tr>\n",
       "    <tr>\n",
       "      <th>1</th>\n",
       "      <td>1002</td>\n",
       "      <td>Vitamin C Serum 30ml</td>\n",
       "      <td>Skincare</td>\n",
       "      <td>DermaGlow</td>\n",
       "    </tr>\n",
       "    <tr>\n",
       "      <th>2</th>\n",
       "      <td>1003</td>\n",
       "      <td>Retinol Cream 50ml</td>\n",
       "      <td>Skincare</td>\n",
       "      <td>DermaGlow</td>\n",
       "    </tr>\n",
       "    <tr>\n",
       "      <th>3</th>\n",
       "      <td>1004</td>\n",
       "      <td>Sunscreen SPF50 50ml</td>\n",
       "      <td>Skincare</td>\n",
       "      <td>SunGuard</td>\n",
       "    </tr>\n",
       "    <tr>\n",
       "      <th>4</th>\n",
       "      <td>1005</td>\n",
       "      <td>Hyaluronic Acid 2% 30ml</td>\n",
       "      <td>SKINCARE</td>\n",
       "      <td>DermaGlow</td>\n",
       "    </tr>\n",
       "  </tbody>\n",
       "</table>\n",
       "</div>"
      ],
      "text/plain": [
       "   product_id              product_name  category      brand\n",
       "0        1001  Aloe Hydrating Gel 100ml  Skincare  DermaGlow\n",
       "1        1002      Vitamin C Serum 30ml  Skincare  DermaGlow\n",
       "2        1003        Retinol Cream 50ml  Skincare  DermaGlow\n",
       "3        1004      Sunscreen SPF50 50ml  Skincare   SunGuard\n",
       "4        1005   Hyaluronic Acid 2% 30ml  SKINCARE  DermaGlow"
      ]
     },
     "metadata": {},
     "output_type": "display_data"
    },
    {
     "name": "stdout",
     "output_type": "stream",
     "text": [
      "\n",
      "Stores data:\n"
     ]
    },
    {
     "data": {
      "text/html": [
       "<div>\n",
       "<style scoped>\n",
       "    .dataframe tbody tr th:only-of-type {\n",
       "        vertical-align: middle;\n",
       "    }\n",
       "\n",
       "    .dataframe tbody tr th {\n",
       "        vertical-align: top;\n",
       "    }\n",
       "\n",
       "    .dataframe thead th {\n",
       "        text-align: right;\n",
       "    }\n",
       "</style>\n",
       "<table border=\"1\" class=\"dataframe\">\n",
       "  <thead>\n",
       "    <tr style=\"text-align: right;\">\n",
       "      <th></th>\n",
       "      <th>store_id</th>\n",
       "      <th>store_name</th>\n",
       "      <th>city</th>\n",
       "      <th>region</th>\n",
       "    </tr>\n",
       "  </thead>\n",
       "  <tbody>\n",
       "    <tr>\n",
       "      <th>0</th>\n",
       "      <td>201</td>\n",
       "      <td>Dubai Mall</td>\n",
       "      <td>Dubai</td>\n",
       "      <td>DXB</td>\n",
       "    </tr>\n",
       "    <tr>\n",
       "      <th>1</th>\n",
       "      <td>202</td>\n",
       "      <td>Mall of the Emirates</td>\n",
       "      <td>Dubai</td>\n",
       "      <td>DXB</td>\n",
       "    </tr>\n",
       "    <tr>\n",
       "      <th>2</th>\n",
       "      <td>203</td>\n",
       "      <td>Abu Dhabi Galleria</td>\n",
       "      <td>Abu Dhabi</td>\n",
       "      <td>AUH</td>\n",
       "    </tr>\n",
       "    <tr>\n",
       "      <th>3</th>\n",
       "      <td>204</td>\n",
       "      <td>Sharjah City Center</td>\n",
       "      <td>Sharjah</td>\n",
       "      <td>SHJ</td>\n",
       "    </tr>\n",
       "  </tbody>\n",
       "</table>\n",
       "</div>"
      ],
      "text/plain": [
       "   store_id            store_name       city region\n",
       "0       201            Dubai Mall      Dubai    DXB\n",
       "1       202  Mall of the Emirates      Dubai    DXB\n",
       "2       203    Abu Dhabi Galleria  Abu Dhabi    AUH\n",
       "3       204   Sharjah City Center    Sharjah    SHJ"
      ]
     },
     "metadata": {},
     "output_type": "display_data"
    },
    {
     "name": "stdout",
     "output_type": "stream",
     "text": [
      "\n",
      "customers data:\n"
     ]
    },
    {
     "data": {
      "text/html": [
       "<div>\n",
       "<style scoped>\n",
       "    .dataframe tbody tr th:only-of-type {\n",
       "        vertical-align: middle;\n",
       "    }\n",
       "\n",
       "    .dataframe tbody tr th {\n",
       "        vertical-align: top;\n",
       "    }\n",
       "\n",
       "    .dataframe thead th {\n",
       "        text-align: right;\n",
       "    }\n",
       "</style>\n",
       "<table border=\"1\" class=\"dataframe\">\n",
       "  <thead>\n",
       "    <tr style=\"text-align: right;\">\n",
       "      <th></th>\n",
       "      <th>customer_id</th>\n",
       "      <th>gender</th>\n",
       "      <th>age</th>\n",
       "      <th>loyalty_tier</th>\n",
       "    </tr>\n",
       "  </thead>\n",
       "  <tbody>\n",
       "    <tr>\n",
       "      <th>0</th>\n",
       "      <td>5001</td>\n",
       "      <td>F</td>\n",
       "      <td>29</td>\n",
       "      <td>Gold</td>\n",
       "    </tr>\n",
       "    <tr>\n",
       "      <th>1</th>\n",
       "      <td>5002</td>\n",
       "      <td>M</td>\n",
       "      <td>27</td>\n",
       "      <td>Silver</td>\n",
       "    </tr>\n",
       "    <tr>\n",
       "      <th>2</th>\n",
       "      <td>5003</td>\n",
       "      <td>M</td>\n",
       "      <td>29</td>\n",
       "      <td>Silver</td>\n",
       "    </tr>\n",
       "    <tr>\n",
       "      <th>3</th>\n",
       "      <td>5004</td>\n",
       "      <td>F</td>\n",
       "      <td>18</td>\n",
       "      <td>Silver</td>\n",
       "    </tr>\n",
       "    <tr>\n",
       "      <th>4</th>\n",
       "      <td>5005</td>\n",
       "      <td>F</td>\n",
       "      <td>27</td>\n",
       "      <td>None</td>\n",
       "    </tr>\n",
       "  </tbody>\n",
       "</table>\n",
       "</div>"
      ],
      "text/plain": [
       "   customer_id gender  age loyalty_tier\n",
       "0         5001      F   29         Gold\n",
       "1         5002      M   27       Silver\n",
       "2         5003      M   29       Silver\n",
       "3         5004      F   18       Silver\n",
       "4         5005      F   27         None"
      ]
     },
     "metadata": {},
     "output_type": "display_data"
    },
    {
     "name": "stdout",
     "output_type": "stream",
     "text": [
      "\n",
      "Holidays data:\n"
     ]
    },
    {
     "data": {
      "text/html": [
       "<div>\n",
       "<style scoped>\n",
       "    .dataframe tbody tr th:only-of-type {\n",
       "        vertical-align: middle;\n",
       "    }\n",
       "\n",
       "    .dataframe tbody tr th {\n",
       "        vertical-align: top;\n",
       "    }\n",
       "\n",
       "    .dataframe thead th {\n",
       "        text-align: right;\n",
       "    }\n",
       "</style>\n",
       "<table border=\"1\" class=\"dataframe\">\n",
       "  <thead>\n",
       "    <tr style=\"text-align: right;\">\n",
       "      <th></th>\n",
       "      <th>date</th>\n",
       "      <th>holiday</th>\n",
       "    </tr>\n",
       "  </thead>\n",
       "  <tbody>\n",
       "    <tr>\n",
       "      <th>0</th>\n",
       "      <td>2024-04-10</td>\n",
       "      <td>1</td>\n",
       "    </tr>\n",
       "    <tr>\n",
       "      <th>1</th>\n",
       "      <td>2024-04-11</td>\n",
       "      <td>1</td>\n",
       "    </tr>\n",
       "    <tr>\n",
       "      <th>2</th>\n",
       "      <td>2024-06-16</td>\n",
       "      <td>1</td>\n",
       "    </tr>\n",
       "    <tr>\n",
       "      <th>3</th>\n",
       "      <td>2024-06-17</td>\n",
       "      <td>1</td>\n",
       "    </tr>\n",
       "    <tr>\n",
       "      <th>4</th>\n",
       "      <td>2024-12-02</td>\n",
       "      <td>1</td>\n",
       "    </tr>\n",
       "  </tbody>\n",
       "</table>\n",
       "</div>"
      ],
      "text/plain": [
       "         date  holiday\n",
       "0  2024-04-10        1\n",
       "1  2024-04-11        1\n",
       "2  2024-06-16        1\n",
       "3  2024-06-17        1\n",
       "4  2024-12-02        1"
      ]
     },
     "metadata": {},
     "output_type": "display_data"
    }
   ],
   "source": [
    "import pandas as pd\n",
    "\n",
    "# Load raw files (since your notebook is inside retail_project, no folder name needed)\n",
    "sales = pd.read_csv(\"sales.csv\")\n",
    "products = pd.read_csv(\"products.csv\")\n",
    "stores = pd.read_csv(\"stores.csv\")\n",
    "customers = pd.read_csv(\"customers.csv\")\n",
    "holidays = pd.read_csv(\"uae_holidays.csv\")\n",
    "\n",
    "# Quick check: see first few rows of each file\n",
    "print(\"Sales data:\")\n",
    "display(sales.head())\n",
    "\n",
    "print(\"\\nProducts data:\")\n",
    "display(products.head())\n",
    "\n",
    "print(\"\\nStores data:\")\n",
    "display(stores.head())\n",
    "\n",
    "print(\"\\ncustomers data:\")\n",
    "display(customers.head())\n",
    "\n",
    "print(\"\\nHolidays data:\")\n",
    "display(holidays.head())"
   ]
  },
  {
   "cell_type": "markdown",
   "id": "b85df72e-62bb-4b15-85c5-49e2f4c2b419",
   "metadata": {},
   "source": [
    "# Inspection\n",
    "## Sales"
   ]
  },
  {
   "cell_type": "code",
   "execution_count": 7,
   "id": "195905e8-612c-45a0-b1a0-7271ef219b84",
   "metadata": {},
   "outputs": [
    {
     "data": {
      "text/plain": [
       "(61091, 10)"
      ]
     },
     "execution_count": 7,
     "metadata": {},
     "output_type": "execute_result"
    }
   ],
   "source": [
    "sales.shape"
   ]
  },
  {
   "cell_type": "markdown",
   "id": "8cf1147a-6876-47d4-8b5e-2f112c70a43d",
   "metadata": {},
   "source": [
    "- this means we have 61,091 rows and 10 columns meaning we are dealing with a very big dataset"
   ]
  },
  {
   "cell_type": "code",
   "execution_count": 8,
   "id": "57966daa-bfb6-40b0-b210-aef8c8bde770",
   "metadata": {},
   "outputs": [
    {
     "data": {
      "text/plain": [
       "Index(['order_id', 'order_date', 'store_id', 'customer_id', 'product_id',\n",
       "       'qty', 'unit_price', 'promo_code', 'line_total', 'payment_method'],\n",
       "      dtype='object')"
      ]
     },
     "execution_count": 8,
     "metadata": {},
     "output_type": "execute_result"
    }
   ],
   "source": [
    "sales.columns"
   ]
  },
  {
   "cell_type": "markdown",
   "id": "9580e39f-d6d9-46a1-af29-2cd7d45a1a3d",
   "metadata": {},
   "source": [
    "- confirms which fields (columns) we have"
   ]
  },
  {
   "cell_type": "code",
   "execution_count": 9,
   "id": "fe666f2b-5bb2-4536-af50-cf8a1ab70240",
   "metadata": {},
   "outputs": [
    {
     "data": {
      "text/html": [
       "<div>\n",
       "<style scoped>\n",
       "    .dataframe tbody tr th:only-of-type {\n",
       "        vertical-align: middle;\n",
       "    }\n",
       "\n",
       "    .dataframe tbody tr th {\n",
       "        vertical-align: top;\n",
       "    }\n",
       "\n",
       "    .dataframe thead th {\n",
       "        text-align: right;\n",
       "    }\n",
       "</style>\n",
       "<table border=\"1\" class=\"dataframe\">\n",
       "  <thead>\n",
       "    <tr style=\"text-align: right;\">\n",
       "      <th></th>\n",
       "      <th>order_id</th>\n",
       "      <th>order_date</th>\n",
       "      <th>store_id</th>\n",
       "      <th>customer_id</th>\n",
       "      <th>product_id</th>\n",
       "      <th>qty</th>\n",
       "      <th>unit_price</th>\n",
       "      <th>promo_code</th>\n",
       "      <th>line_total</th>\n",
       "      <th>payment_method</th>\n",
       "    </tr>\n",
       "  </thead>\n",
       "  <tbody>\n",
       "    <tr>\n",
       "      <th>0</th>\n",
       "      <td>300001</td>\n",
       "      <td>2024-01-01</td>\n",
       "      <td>201</td>\n",
       "      <td>5067</td>\n",
       "      <td>1009</td>\n",
       "      <td>1</td>\n",
       "      <td>36.48</td>\n",
       "      <td>WELCOME10</td>\n",
       "      <td>32.83</td>\n",
       "      <td>Card</td>\n",
       "    </tr>\n",
       "    <tr>\n",
       "      <th>1</th>\n",
       "      <td>300002</td>\n",
       "      <td>2024-01-01</td>\n",
       "      <td>201</td>\n",
       "      <td>5065</td>\n",
       "      <td>1019</td>\n",
       "      <td>1</td>\n",
       "      <td>51.61</td>\n",
       "      <td>NaN</td>\n",
       "      <td>51.61</td>\n",
       "      <td>Card</td>\n",
       "    </tr>\n",
       "    <tr>\n",
       "      <th>2</th>\n",
       "      <td>300003</td>\n",
       "      <td>2024-01-01</td>\n",
       "      <td>202</td>\n",
       "      <td>5033</td>\n",
       "      <td>1012</td>\n",
       "      <td>1</td>\n",
       "      <td>44.49</td>\n",
       "      <td>NaN</td>\n",
       "      <td>44.49</td>\n",
       "      <td>Tabby</td>\n",
       "    </tr>\n",
       "    <tr>\n",
       "      <th>3</th>\n",
       "      <td>300004</td>\n",
       "      <td>2024-01-01</td>\n",
       "      <td>204</td>\n",
       "      <td>5040</td>\n",
       "      <td>1009</td>\n",
       "      <td>1</td>\n",
       "      <td>35.1</td>\n",
       "      <td>WEEKEND5</td>\n",
       "      <td>33.34</td>\n",
       "      <td>Tabby</td>\n",
       "    </tr>\n",
       "    <tr>\n",
       "      <th>4</th>\n",
       "      <td>300005</td>\n",
       "      <td>2024-01-01</td>\n",
       "      <td>201</td>\n",
       "      <td>5074</td>\n",
       "      <td>1007</td>\n",
       "      <td>1</td>\n",
       "      <td>34.26</td>\n",
       "      <td>NaN</td>\n",
       "      <td>34.26</td>\n",
       "      <td>Tabby</td>\n",
       "    </tr>\n",
       "  </tbody>\n",
       "</table>\n",
       "</div>"
      ],
      "text/plain": [
       "   order_id  order_date  store_id  customer_id  product_id  qty unit_price  \\\n",
       "0    300001  2024-01-01       201         5067        1009    1      36.48   \n",
       "1    300002  2024-01-01       201         5065        1019    1      51.61   \n",
       "2    300003  2024-01-01       202         5033        1012    1      44.49   \n",
       "3    300004  2024-01-01       204         5040        1009    1       35.1   \n",
       "4    300005  2024-01-01       201         5074        1007    1      34.26   \n",
       "\n",
       "  promo_code  line_total payment_method  \n",
       "0  WELCOME10       32.83           Card  \n",
       "1        NaN       51.61           Card  \n",
       "2        NaN       44.49          Tabby  \n",
       "3   WEEKEND5       33.34          Tabby  \n",
       "4        NaN       34.26          Tabby  "
      ]
     },
     "execution_count": 9,
     "metadata": {},
     "output_type": "execute_result"
    }
   ],
   "source": [
    "sales.head()"
   ]
  },
  {
   "cell_type": "code",
   "execution_count": 10,
   "id": "b0d182e8-f185-4178-9ecf-cabf717835ad",
   "metadata": {},
   "outputs": [
    {
     "name": "stdout",
     "output_type": "stream",
     "text": [
      "<class 'pandas.core.frame.DataFrame'>\n",
      "RangeIndex: 61091 entries, 0 to 61090\n",
      "Data columns (total 10 columns):\n",
      " #   Column          Non-Null Count  Dtype  \n",
      "---  ------          --------------  -----  \n",
      " 0   order_id        61091 non-null  int64  \n",
      " 1   order_date      61091 non-null  object \n",
      " 2   store_id        61091 non-null  int64  \n",
      " 3   customer_id     61091 non-null  int64  \n",
      " 4   product_id      61091 non-null  int64  \n",
      " 5   qty             61091 non-null  int64  \n",
      " 6   unit_price      61091 non-null  object \n",
      " 7   promo_code      14925 non-null  object \n",
      " 8   line_total      61091 non-null  float64\n",
      " 9   payment_method  59838 non-null  object \n",
      "dtypes: float64(1), int64(5), object(4)\n",
      "memory usage: 4.7+ MB\n"
     ]
    }
   ],
   "source": [
    "sales.info()"
   ]
  },
  {
   "cell_type": "markdown",
   "id": "1e9f1fc6-1259-4e35-9ac6-0a8b7d7af097",
   "metadata": {},
   "source": [
    "- order date is still object type (string), needs to be converted to datetime\n",
    "- unit price is object (should be float)\n",
    "- promocode and payment method are categorical"
   ]
  },
  {
   "cell_type": "code",
   "execution_count": 12,
   "id": "8b9458b2-55f1-419e-8fc5-53669c4a3516",
   "metadata": {},
   "outputs": [
    {
     "data": {
      "text/plain": [
       "order_id              0\n",
       "order_date            0\n",
       "store_id              0\n",
       "customer_id           0\n",
       "product_id            0\n",
       "qty                   0\n",
       "unit_price            0\n",
       "promo_code        46166\n",
       "line_total            0\n",
       "payment_method     1253\n",
       "dtype: int64"
      ]
     },
     "execution_count": 12,
     "metadata": {},
     "output_type": "execute_result"
    }
   ],
   "source": [
    "sales.isnull().sum()"
   ]
  },
  {
   "cell_type": "markdown",
   "id": "646adcf8-a864-4930-9b5c-a0f70277d5e2",
   "metadata": {},
   "source": [
    "- promo_code 46k missing (normal, not everyone uses promos).\n",
    "- payment_method → ~1.2k missing (that’s a problem: might be data entry errors)\n",
    "  - we need to decide Keep NaN for promocode (expected)\n",
    "  - investigate / fill / drop /for payment method"
   ]
  },
  {
   "cell_type": "code",
   "execution_count": 13,
   "id": "a6e9fa5c-5ce6-4e16-9bd5-4940143b1a11",
   "metadata": {},
   "outputs": [
    {
     "data": {
      "text/html": [
       "<div>\n",
       "<style scoped>\n",
       "    .dataframe tbody tr th:only-of-type {\n",
       "        vertical-align: middle;\n",
       "    }\n",
       "\n",
       "    .dataframe tbody tr th {\n",
       "        vertical-align: top;\n",
       "    }\n",
       "\n",
       "    .dataframe thead th {\n",
       "        text-align: right;\n",
       "    }\n",
       "</style>\n",
       "<table border=\"1\" class=\"dataframe\">\n",
       "  <thead>\n",
       "    <tr style=\"text-align: right;\">\n",
       "      <th></th>\n",
       "      <th>order_id</th>\n",
       "      <th>store_id</th>\n",
       "      <th>customer_id</th>\n",
       "      <th>product_id</th>\n",
       "      <th>qty</th>\n",
       "      <th>line_total</th>\n",
       "    </tr>\n",
       "  </thead>\n",
       "  <tbody>\n",
       "    <tr>\n",
       "      <th>count</th>\n",
       "      <td>61091.000000</td>\n",
       "      <td>61091.000000</td>\n",
       "      <td>61091.000000</td>\n",
       "      <td>61091.000000</td>\n",
       "      <td>61091.000000</td>\n",
       "      <td>61091.000000</td>\n",
       "    </tr>\n",
       "    <tr>\n",
       "      <th>mean</th>\n",
       "      <td>330484.808450</td>\n",
       "      <td>202.498830</td>\n",
       "      <td>5050.529161</td>\n",
       "      <td>1013.530324</td>\n",
       "      <td>1.365766</td>\n",
       "      <td>66.065030</td>\n",
       "    </tr>\n",
       "    <tr>\n",
       "      <th>std</th>\n",
       "      <td>17601.869052</td>\n",
       "      <td>1.120215</td>\n",
       "      <td>28.870492</td>\n",
       "      <td>7.499199</td>\n",
       "      <td>0.672763</td>\n",
       "      <td>41.269667</td>\n",
       "    </tr>\n",
       "    <tr>\n",
       "      <th>min</th>\n",
       "      <td>300001.000000</td>\n",
       "      <td>201.000000</td>\n",
       "      <td>5001.000000</td>\n",
       "      <td>1001.000000</td>\n",
       "      <td>-4.000000</td>\n",
       "      <td>-280.550000</td>\n",
       "    </tr>\n",
       "    <tr>\n",
       "      <th>25%</th>\n",
       "      <td>315240.500000</td>\n",
       "      <td>201.000000</td>\n",
       "      <td>5026.000000</td>\n",
       "      <td>1007.000000</td>\n",
       "      <td>1.000000</td>\n",
       "      <td>39.890000</td>\n",
       "    </tr>\n",
       "    <tr>\n",
       "      <th>50%</th>\n",
       "      <td>330489.000000</td>\n",
       "      <td>203.000000</td>\n",
       "      <td>5050.000000</td>\n",
       "      <td>1014.000000</td>\n",
       "      <td>1.000000</td>\n",
       "      <td>53.230000</td>\n",
       "    </tr>\n",
       "    <tr>\n",
       "      <th>75%</th>\n",
       "      <td>345724.500000</td>\n",
       "      <td>204.000000</td>\n",
       "      <td>5076.000000</td>\n",
       "      <td>1020.000000</td>\n",
       "      <td>2.000000</td>\n",
       "      <td>81.105000</td>\n",
       "    </tr>\n",
       "    <tr>\n",
       "      <th>max</th>\n",
       "      <td>360970.000000</td>\n",
       "      <td>204.000000</td>\n",
       "      <td>5100.000000</td>\n",
       "      <td>1026.000000</td>\n",
       "      <td>5.000000</td>\n",
       "      <td>362.700000</td>\n",
       "    </tr>\n",
       "  </tbody>\n",
       "</table>\n",
       "</div>"
      ],
      "text/plain": [
       "            order_id      store_id   customer_id    product_id           qty  \\\n",
       "count   61091.000000  61091.000000  61091.000000  61091.000000  61091.000000   \n",
       "mean   330484.808450    202.498830   5050.529161   1013.530324      1.365766   \n",
       "std     17601.869052      1.120215     28.870492      7.499199      0.672763   \n",
       "min    300001.000000    201.000000   5001.000000   1001.000000     -4.000000   \n",
       "25%    315240.500000    201.000000   5026.000000   1007.000000      1.000000   \n",
       "50%    330489.000000    203.000000   5050.000000   1014.000000      1.000000   \n",
       "75%    345724.500000    204.000000   5076.000000   1020.000000      2.000000   \n",
       "max    360970.000000    204.000000   5100.000000   1026.000000      5.000000   \n",
       "\n",
       "         line_total  \n",
       "count  61091.000000  \n",
       "mean      66.065030  \n",
       "std       41.269667  \n",
       "min     -280.550000  \n",
       "25%       39.890000  \n",
       "50%       53.230000  \n",
       "75%       81.105000  \n",
       "max      362.700000  "
      ]
     },
     "execution_count": 13,
     "metadata": {},
     "output_type": "execute_result"
    }
   ],
   "source": [
    "sales.describe()"
   ]
  },
  {
   "cell_type": "markdown",
   "id": "0c0bbd9d-c410-4244-b1ff-27b9fdeb90ae",
   "metadata": {},
   "source": [
    "### This is where analysis begins:\n",
    "\n",
    "- qty: min is -4 (⚠️ impossible, means bad data entry → needs fixing).\n",
    "- line_total: min is -280.55 (⚠️ also impossible).\n",
    "- qty max = 5 → realistic, small purchases.\n",
    "- line_total max = 362 → seems okay for skincare.\n",
    "- Average transaction value (mean line_total) ≈ 66.\n",
    "\n",
    "### Insights:\n",
    "- Data has errors (negative sales).\n",
    "- On average, people spend about 66 per order.\n",
    "- Most customers buy 1–2 items per order."
   ]
  },
  {
   "cell_type": "markdown",
   "id": "6b0cfbd2-dbc6-45a6-9365-85f5bad46e3a",
   "metadata": {},
   "source": [
    "## Products"
   ]
  },
  {
   "cell_type": "code",
   "execution_count": 10,
   "id": "8160308d-b7d0-4a16-ad56-6d2cd74f3721",
   "metadata": {},
   "outputs": [
    {
     "data": {
      "text/plain": [
       "(26, 4)"
      ]
     },
     "execution_count": 10,
     "metadata": {},
     "output_type": "execute_result"
    }
   ],
   "source": [
    "products.shape"
   ]
  },
  {
   "cell_type": "markdown",
   "id": "787b74d7-cc17-4049-8e9d-fca096cb94bb",
   "metadata": {},
   "source": [
    "26 rows and 4 columns"
   ]
  },
  {
   "cell_type": "code",
   "execution_count": 11,
   "id": "0194b26c-4906-4152-aee7-de0d6807ea4c",
   "metadata": {},
   "outputs": [
    {
     "data": {
      "text/plain": [
       "Index(['product_id', 'product_name', 'category', 'brand'], dtype='object')"
      ]
     },
     "execution_count": 11,
     "metadata": {},
     "output_type": "execute_result"
    }
   ],
   "source": [
    "products.columns"
   ]
  },
  {
   "cell_type": "code",
   "execution_count": 33,
   "id": "3c41a6b3-69d6-4ae5-b576-535fc217b6f0",
   "metadata": {},
   "outputs": [
    {
     "data": {
      "text/html": [
       "<div>\n",
       "<style scoped>\n",
       "    .dataframe tbody tr th:only-of-type {\n",
       "        vertical-align: middle;\n",
       "    }\n",
       "\n",
       "    .dataframe tbody tr th {\n",
       "        vertical-align: top;\n",
       "    }\n",
       "\n",
       "    .dataframe thead th {\n",
       "        text-align: right;\n",
       "    }\n",
       "</style>\n",
       "<table border=\"1\" class=\"dataframe\">\n",
       "  <thead>\n",
       "    <tr style=\"text-align: right;\">\n",
       "      <th></th>\n",
       "      <th>product_id</th>\n",
       "      <th>product_name</th>\n",
       "      <th>category</th>\n",
       "      <th>brand</th>\n",
       "    </tr>\n",
       "  </thead>\n",
       "  <tbody>\n",
       "    <tr>\n",
       "      <th>0</th>\n",
       "      <td>1001</td>\n",
       "      <td>Aloe Hydrating Gel 100ml</td>\n",
       "      <td>Skincare</td>\n",
       "      <td>DermaGlow</td>\n",
       "    </tr>\n",
       "    <tr>\n",
       "      <th>1</th>\n",
       "      <td>1002</td>\n",
       "      <td>Vitamin C Serum 30ml</td>\n",
       "      <td>Skincare</td>\n",
       "      <td>DermaGlow</td>\n",
       "    </tr>\n",
       "    <tr>\n",
       "      <th>2</th>\n",
       "      <td>1003</td>\n",
       "      <td>Retinol Cream 50ml</td>\n",
       "      <td>Skincare</td>\n",
       "      <td>DermaGlow</td>\n",
       "    </tr>\n",
       "    <tr>\n",
       "      <th>3</th>\n",
       "      <td>1004</td>\n",
       "      <td>Sunscreen SPF50 50ml</td>\n",
       "      <td>Skincare</td>\n",
       "      <td>SunGuard</td>\n",
       "    </tr>\n",
       "    <tr>\n",
       "      <th>4</th>\n",
       "      <td>1005</td>\n",
       "      <td>Hyaluronic Acid 2% 30ml</td>\n",
       "      <td>SKINCARE</td>\n",
       "      <td>DermaGlow</td>\n",
       "    </tr>\n",
       "  </tbody>\n",
       "</table>\n",
       "</div>"
      ],
      "text/plain": [
       "   product_id              product_name  category      brand\n",
       "0        1001  Aloe Hydrating Gel 100ml  Skincare  DermaGlow\n",
       "1        1002      Vitamin C Serum 30ml  Skincare  DermaGlow\n",
       "2        1003        Retinol Cream 50ml  Skincare  DermaGlow\n",
       "3        1004      Sunscreen SPF50 50ml  Skincare   SunGuard\n",
       "4        1005   Hyaluronic Acid 2% 30ml  SKINCARE  DermaGlow"
      ]
     },
     "execution_count": 33,
     "metadata": {},
     "output_type": "execute_result"
    }
   ],
   "source": [
    "products.head()"
   ]
  },
  {
   "cell_type": "markdown",
   "id": "7407afbd-84b1-44e0-a4ae-e8802b6d93c6",
   "metadata": {},
   "source": [
    "Shows the first 5 rows:\n",
    "- product_id looks sequential (1001, 1002, 1003…)\n",
    "- product_name gives names + sizes (e.g., “Aloe Hydrating Gel 100ml”)\n",
    "- category has some inconsistencies (notice: Skincare, SKINCARE, Bodycare, HAIRCARE, GROOMING) → problem we’ll need to fix later. \n",
    "- brand looks like company names, e.g., DermaGlow, PureClean, etc.\n",
    "\n",
    "category column needs cleaning (inconsistent capitalization)."
   ]
  },
  {
   "cell_type": "code",
   "execution_count": 34,
   "id": "8d43166a-a43b-411f-a607-63bf756c0ada",
   "metadata": {},
   "outputs": [
    {
     "name": "stdout",
     "output_type": "stream",
     "text": [
      "<class 'pandas.core.frame.DataFrame'>\n",
      "RangeIndex: 26 entries, 0 to 25\n",
      "Data columns (total 4 columns):\n",
      " #   Column        Non-Null Count  Dtype \n",
      "---  ------        --------------  ----- \n",
      " 0   product_id    26 non-null     int64 \n",
      " 1   product_name  26 non-null     object\n",
      " 2   category      26 non-null     object\n",
      " 3   brand         26 non-null     object\n",
      "dtypes: int64(1), object(3)\n",
      "memory usage: 960.0+ bytes\n"
     ]
    }
   ],
   "source": [
    "products.info()"
   ]
  },
  {
   "cell_type": "markdown",
   "id": "da6644b7-7094-47a6-9d8d-e400b0be6b9f",
   "metadata": {},
   "source": [
    "- Non-Null Count is 26 for every column → means no missing values.\n",
    "  - Dtype (data types):\n",
    "  - product_id → int64 (numeric)\n",
    "  - others → object (strings/text).\n",
    "\n",
    "This is expected and clean. No problems here."
   ]
  },
  {
   "cell_type": "code",
   "execution_count": 14,
   "id": "552f93fb-7750-4977-90e7-2af83d1b8170",
   "metadata": {},
   "outputs": [
    {
     "data": {
      "text/plain": [
       "product_id      0\n",
       "product_name    0\n",
       "category        0\n",
       "brand           0\n",
       "dtype: int64"
      ]
     },
     "execution_count": 14,
     "metadata": {},
     "output_type": "execute_result"
    }
   ],
   "source": [
    "products.isnull().sum()"
   ]
  },
  {
   "cell_type": "markdown",
   "id": "f90f5a2e-76c1-4dc5-b6c0-211852f265dd",
   "metadata": {},
   "source": [
    "Zero missing values across all columns."
   ]
  },
  {
   "cell_type": "code",
   "execution_count": 35,
   "id": "0f43b1f7-9fc7-40f3-8f5d-36074b5abe10",
   "metadata": {},
   "outputs": [
    {
     "data": {
      "text/html": [
       "<div>\n",
       "<style scoped>\n",
       "    .dataframe tbody tr th:only-of-type {\n",
       "        vertical-align: middle;\n",
       "    }\n",
       "\n",
       "    .dataframe tbody tr th {\n",
       "        vertical-align: top;\n",
       "    }\n",
       "\n",
       "    .dataframe thead th {\n",
       "        text-align: right;\n",
       "    }\n",
       "</style>\n",
       "<table border=\"1\" class=\"dataframe\">\n",
       "  <thead>\n",
       "    <tr style=\"text-align: right;\">\n",
       "      <th></th>\n",
       "      <th>product_id</th>\n",
       "    </tr>\n",
       "  </thead>\n",
       "  <tbody>\n",
       "    <tr>\n",
       "      <th>count</th>\n",
       "      <td>26.000000</td>\n",
       "    </tr>\n",
       "    <tr>\n",
       "      <th>mean</th>\n",
       "      <td>1013.500000</td>\n",
       "    </tr>\n",
       "    <tr>\n",
       "      <th>std</th>\n",
       "      <td>7.648529</td>\n",
       "    </tr>\n",
       "    <tr>\n",
       "      <th>min</th>\n",
       "      <td>1001.000000</td>\n",
       "    </tr>\n",
       "    <tr>\n",
       "      <th>25%</th>\n",
       "      <td>1007.250000</td>\n",
       "    </tr>\n",
       "    <tr>\n",
       "      <th>50%</th>\n",
       "      <td>1013.500000</td>\n",
       "    </tr>\n",
       "    <tr>\n",
       "      <th>75%</th>\n",
       "      <td>1019.750000</td>\n",
       "    </tr>\n",
       "    <tr>\n",
       "      <th>max</th>\n",
       "      <td>1026.000000</td>\n",
       "    </tr>\n",
       "  </tbody>\n",
       "</table>\n",
       "</div>"
      ],
      "text/plain": [
       "        product_id\n",
       "count    26.000000\n",
       "mean   1013.500000\n",
       "std       7.648529\n",
       "min    1001.000000\n",
       "25%    1007.250000\n",
       "50%    1013.500000\n",
       "75%    1019.750000\n",
       "max    1026.000000"
      ]
     },
     "execution_count": 35,
     "metadata": {},
     "output_type": "execute_result"
    }
   ],
   "source": [
    "products.describe()"
   ]
  },
  {
   "cell_type": "markdown",
   "id": "9d309b4b-a077-432e-9ad5-d3db5dbbdbe4",
   "metadata": {},
   "source": [
    "Basically confirms IDs are sequential, no missing product_id values."
   ]
  },
  {
   "cell_type": "markdown",
   "id": "85abd157-80b7-4583-9a54-176a24fd2c5e",
   "metadata": {},
   "source": [
    "## Stores"
   ]
  },
  {
   "cell_type": "code",
   "execution_count": 15,
   "id": "16760bf3-538c-4991-9581-a9c1c88a5c4c",
   "metadata": {},
   "outputs": [
    {
     "data": {
      "text/plain": [
       "(4, 4)"
      ]
     },
     "execution_count": 15,
     "metadata": {},
     "output_type": "execute_result"
    }
   ],
   "source": [
    "stores.shape"
   ]
  },
  {
   "cell_type": "code",
   "execution_count": 16,
   "id": "8a0f9c29-fd2d-477c-aae8-2692af584abf",
   "metadata": {},
   "outputs": [
    {
     "data": {
      "text/plain": [
       "Index(['store_id', 'store_name', 'city', 'region'], dtype='object')"
      ]
     },
     "execution_count": 16,
     "metadata": {},
     "output_type": "execute_result"
    }
   ],
   "source": [
    "stores.columns"
   ]
  },
  {
   "cell_type": "code",
   "execution_count": 36,
   "id": "d7d25f67-5bd6-44d3-a7fd-eeb5f2f8dc30",
   "metadata": {},
   "outputs": [
    {
     "data": {
      "text/html": [
       "<div>\n",
       "<style scoped>\n",
       "    .dataframe tbody tr th:only-of-type {\n",
       "        vertical-align: middle;\n",
       "    }\n",
       "\n",
       "    .dataframe tbody tr th {\n",
       "        vertical-align: top;\n",
       "    }\n",
       "\n",
       "    .dataframe thead th {\n",
       "        text-align: right;\n",
       "    }\n",
       "</style>\n",
       "<table border=\"1\" class=\"dataframe\">\n",
       "  <thead>\n",
       "    <tr style=\"text-align: right;\">\n",
       "      <th></th>\n",
       "      <th>store_id</th>\n",
       "      <th>store_name</th>\n",
       "      <th>city</th>\n",
       "      <th>region</th>\n",
       "    </tr>\n",
       "  </thead>\n",
       "  <tbody>\n",
       "    <tr>\n",
       "      <th>0</th>\n",
       "      <td>201</td>\n",
       "      <td>Dubai Mall</td>\n",
       "      <td>Dubai</td>\n",
       "      <td>DXB</td>\n",
       "    </tr>\n",
       "    <tr>\n",
       "      <th>1</th>\n",
       "      <td>202</td>\n",
       "      <td>Mall of the Emirates</td>\n",
       "      <td>Dubai</td>\n",
       "      <td>DXB</td>\n",
       "    </tr>\n",
       "    <tr>\n",
       "      <th>2</th>\n",
       "      <td>203</td>\n",
       "      <td>Abu Dhabi Galleria</td>\n",
       "      <td>Abu Dhabi</td>\n",
       "      <td>AUH</td>\n",
       "    </tr>\n",
       "    <tr>\n",
       "      <th>3</th>\n",
       "      <td>204</td>\n",
       "      <td>Sharjah City Center</td>\n",
       "      <td>Sharjah</td>\n",
       "      <td>SHJ</td>\n",
       "    </tr>\n",
       "  </tbody>\n",
       "</table>\n",
       "</div>"
      ],
      "text/plain": [
       "   store_id            store_name       city region\n",
       "0       201            Dubai Mall      Dubai    DXB\n",
       "1       202  Mall of the Emirates      Dubai    DXB\n",
       "2       203    Abu Dhabi Galleria  Abu Dhabi    AUH\n",
       "3       204   Sharjah City Center    Sharjah    SHJ"
      ]
     },
     "execution_count": 36,
     "metadata": {},
     "output_type": "execute_result"
    }
   ],
   "source": [
    "stores.head()"
   ]
  },
  {
   "cell_type": "code",
   "execution_count": 37,
   "id": "51fc87bf-aeb4-4224-803b-24f93de779df",
   "metadata": {},
   "outputs": [
    {
     "name": "stdout",
     "output_type": "stream",
     "text": [
      "<class 'pandas.core.frame.DataFrame'>\n",
      "RangeIndex: 4 entries, 0 to 3\n",
      "Data columns (total 4 columns):\n",
      " #   Column      Non-Null Count  Dtype \n",
      "---  ------      --------------  ----- \n",
      " 0   store_id    4 non-null      int64 \n",
      " 1   store_name  4 non-null      object\n",
      " 2   city        4 non-null      object\n",
      " 3   region      4 non-null      object\n",
      "dtypes: int64(1), object(3)\n",
      "memory usage: 256.0+ bytes\n"
     ]
    }
   ],
   "source": [
    "stores.info()"
   ]
  },
  {
   "cell_type": "code",
   "execution_count": 19,
   "id": "6d392fe1-25fb-4b25-95fc-0de08ce4b0c1",
   "metadata": {},
   "outputs": [
    {
     "data": {
      "text/plain": [
       "store_id      0\n",
       "store_name    0\n",
       "city          0\n",
       "region        0\n",
       "dtype: int64"
      ]
     },
     "execution_count": 19,
     "metadata": {},
     "output_type": "execute_result"
    }
   ],
   "source": [
    "stores.isnull().sum()"
   ]
  },
  {
   "cell_type": "code",
   "execution_count": 38,
   "id": "c96d1e9b-b7e8-4e85-bb70-01af6819a5e1",
   "metadata": {},
   "outputs": [
    {
     "data": {
      "text/html": [
       "<div>\n",
       "<style scoped>\n",
       "    .dataframe tbody tr th:only-of-type {\n",
       "        vertical-align: middle;\n",
       "    }\n",
       "\n",
       "    .dataframe tbody tr th {\n",
       "        vertical-align: top;\n",
       "    }\n",
       "\n",
       "    .dataframe thead th {\n",
       "        text-align: right;\n",
       "    }\n",
       "</style>\n",
       "<table border=\"1\" class=\"dataframe\">\n",
       "  <thead>\n",
       "    <tr style=\"text-align: right;\">\n",
       "      <th></th>\n",
       "      <th>store_id</th>\n",
       "    </tr>\n",
       "  </thead>\n",
       "  <tbody>\n",
       "    <tr>\n",
       "      <th>count</th>\n",
       "      <td>4.000000</td>\n",
       "    </tr>\n",
       "    <tr>\n",
       "      <th>mean</th>\n",
       "      <td>202.500000</td>\n",
       "    </tr>\n",
       "    <tr>\n",
       "      <th>std</th>\n",
       "      <td>1.290994</td>\n",
       "    </tr>\n",
       "    <tr>\n",
       "      <th>min</th>\n",
       "      <td>201.000000</td>\n",
       "    </tr>\n",
       "    <tr>\n",
       "      <th>25%</th>\n",
       "      <td>201.750000</td>\n",
       "    </tr>\n",
       "    <tr>\n",
       "      <th>50%</th>\n",
       "      <td>202.500000</td>\n",
       "    </tr>\n",
       "    <tr>\n",
       "      <th>75%</th>\n",
       "      <td>203.250000</td>\n",
       "    </tr>\n",
       "    <tr>\n",
       "      <th>max</th>\n",
       "      <td>204.000000</td>\n",
       "    </tr>\n",
       "  </tbody>\n",
       "</table>\n",
       "</div>"
      ],
      "text/plain": [
       "         store_id\n",
       "count    4.000000\n",
       "mean   202.500000\n",
       "std      1.290994\n",
       "min    201.000000\n",
       "25%    201.750000\n",
       "50%    202.500000\n",
       "75%    203.250000\n",
       "max    204.000000"
      ]
     },
     "execution_count": 38,
     "metadata": {},
     "output_type": "execute_result"
    }
   ],
   "source": [
    "stores.describe()"
   ]
  },
  {
   "cell_type": "markdown",
   "id": "2017f208-39c8-4824-92e9-3f8ba91acf81",
   "metadata": {},
   "source": [
    "The stores dataset is very clean and simple: 4 unique stores, no missing data, identifiers are consistent."
   ]
  },
  {
   "cell_type": "markdown",
   "id": "82086c65-44e0-4f27-9de1-031925e5131e",
   "metadata": {},
   "source": [
    "## Customers"
   ]
  },
  {
   "cell_type": "code",
   "execution_count": 24,
   "id": "8a94e128-0a57-4357-ab93-614b347219b7",
   "metadata": {},
   "outputs": [
    {
     "data": {
      "text/plain": [
       "(100, 4)"
      ]
     },
     "execution_count": 24,
     "metadata": {},
     "output_type": "execute_result"
    }
   ],
   "source": [
    "customers.shape"
   ]
  },
  {
   "cell_type": "code",
   "execution_count": 28,
   "id": "03884fde-b701-4007-b5ba-8943344545a2",
   "metadata": {},
   "outputs": [
    {
     "data": {
      "text/plain": [
       "Index(['customer_id', 'gender', 'age', 'loyalty_tier'], dtype='object')"
      ]
     },
     "execution_count": 28,
     "metadata": {},
     "output_type": "execute_result"
    }
   ],
   "source": [
    "customers.columns"
   ]
  },
  {
   "cell_type": "code",
   "execution_count": 39,
   "id": "73b7c366-60a6-44c3-896f-24cf2f3f263d",
   "metadata": {},
   "outputs": [
    {
     "data": {
      "text/html": [
       "<div>\n",
       "<style scoped>\n",
       "    .dataframe tbody tr th:only-of-type {\n",
       "        vertical-align: middle;\n",
       "    }\n",
       "\n",
       "    .dataframe tbody tr th {\n",
       "        vertical-align: top;\n",
       "    }\n",
       "\n",
       "    .dataframe thead th {\n",
       "        text-align: right;\n",
       "    }\n",
       "</style>\n",
       "<table border=\"1\" class=\"dataframe\">\n",
       "  <thead>\n",
       "    <tr style=\"text-align: right;\">\n",
       "      <th></th>\n",
       "      <th>customer_id</th>\n",
       "      <th>gender</th>\n",
       "      <th>age</th>\n",
       "      <th>loyalty_tier</th>\n",
       "    </tr>\n",
       "  </thead>\n",
       "  <tbody>\n",
       "    <tr>\n",
       "      <th>0</th>\n",
       "      <td>5001</td>\n",
       "      <td>F</td>\n",
       "      <td>29</td>\n",
       "      <td>Gold</td>\n",
       "    </tr>\n",
       "    <tr>\n",
       "      <th>1</th>\n",
       "      <td>5002</td>\n",
       "      <td>M</td>\n",
       "      <td>27</td>\n",
       "      <td>Silver</td>\n",
       "    </tr>\n",
       "    <tr>\n",
       "      <th>2</th>\n",
       "      <td>5003</td>\n",
       "      <td>M</td>\n",
       "      <td>29</td>\n",
       "      <td>Silver</td>\n",
       "    </tr>\n",
       "    <tr>\n",
       "      <th>3</th>\n",
       "      <td>5004</td>\n",
       "      <td>F</td>\n",
       "      <td>18</td>\n",
       "      <td>Silver</td>\n",
       "    </tr>\n",
       "    <tr>\n",
       "      <th>4</th>\n",
       "      <td>5005</td>\n",
       "      <td>F</td>\n",
       "      <td>27</td>\n",
       "      <td>None</td>\n",
       "    </tr>\n",
       "  </tbody>\n",
       "</table>\n",
       "</div>"
      ],
      "text/plain": [
       "   customer_id gender  age loyalty_tier\n",
       "0         5001      F   29         Gold\n",
       "1         5002      M   27       Silver\n",
       "2         5003      M   29       Silver\n",
       "3         5004      F   18       Silver\n",
       "4         5005      F   27         None"
      ]
     },
     "execution_count": 39,
     "metadata": {},
     "output_type": "execute_result"
    }
   ],
   "source": [
    "customers.head()"
   ]
  },
  {
   "cell_type": "code",
   "execution_count": 40,
   "id": "744389d3-d75e-4d86-8252-1d59297fb0da",
   "metadata": {},
   "outputs": [
    {
     "name": "stdout",
     "output_type": "stream",
     "text": [
      "<class 'pandas.core.frame.DataFrame'>\n",
      "RangeIndex: 100 entries, 0 to 99\n",
      "Data columns (total 4 columns):\n",
      " #   Column        Non-Null Count  Dtype \n",
      "---  ------        --------------  ----- \n",
      " 0   customer_id   100 non-null    int64 \n",
      " 1   gender        100 non-null    object\n",
      " 2   age           100 non-null    int64 \n",
      " 3   loyalty_tier  100 non-null    object\n",
      "dtypes: int64(2), object(2)\n",
      "memory usage: 3.2+ KB\n"
     ]
    }
   ],
   "source": [
    "customers.info()"
   ]
  },
  {
   "cell_type": "code",
   "execution_count": 31,
   "id": "705bf030-768f-4fc5-9e21-0383c77d9278",
   "metadata": {},
   "outputs": [
    {
     "data": {
      "text/plain": [
       "customer_id     0\n",
       "gender          0\n",
       "age             0\n",
       "loyalty_tier    0\n",
       "dtype: int64"
      ]
     },
     "execution_count": 31,
     "metadata": {},
     "output_type": "execute_result"
    }
   ],
   "source": [
    "customers.isnull().sum()"
   ]
  },
  {
   "cell_type": "code",
   "execution_count": 41,
   "id": "4855becd-0110-48a2-9875-802c8a24b3a9",
   "metadata": {},
   "outputs": [
    {
     "data": {
      "text/html": [
       "<div>\n",
       "<style scoped>\n",
       "    .dataframe tbody tr th:only-of-type {\n",
       "        vertical-align: middle;\n",
       "    }\n",
       "\n",
       "    .dataframe tbody tr th {\n",
       "        vertical-align: top;\n",
       "    }\n",
       "\n",
       "    .dataframe thead th {\n",
       "        text-align: right;\n",
       "    }\n",
       "</style>\n",
       "<table border=\"1\" class=\"dataframe\">\n",
       "  <thead>\n",
       "    <tr style=\"text-align: right;\">\n",
       "      <th></th>\n",
       "      <th>customer_id</th>\n",
       "      <th>age</th>\n",
       "    </tr>\n",
       "  </thead>\n",
       "  <tbody>\n",
       "    <tr>\n",
       "      <th>count</th>\n",
       "      <td>100.000000</td>\n",
       "      <td>100.000000</td>\n",
       "    </tr>\n",
       "    <tr>\n",
       "      <th>mean</th>\n",
       "      <td>5050.500000</td>\n",
       "      <td>28.480000</td>\n",
       "    </tr>\n",
       "    <tr>\n",
       "      <th>std</th>\n",
       "      <td>29.011492</td>\n",
       "      <td>5.407589</td>\n",
       "    </tr>\n",
       "    <tr>\n",
       "      <th>min</th>\n",
       "      <td>5001.000000</td>\n",
       "      <td>18.000000</td>\n",
       "    </tr>\n",
       "    <tr>\n",
       "      <th>25%</th>\n",
       "      <td>5025.750000</td>\n",
       "      <td>24.000000</td>\n",
       "    </tr>\n",
       "    <tr>\n",
       "      <th>50%</th>\n",
       "      <td>5050.500000</td>\n",
       "      <td>29.000000</td>\n",
       "    </tr>\n",
       "    <tr>\n",
       "      <th>75%</th>\n",
       "      <td>5075.250000</td>\n",
       "      <td>31.250000</td>\n",
       "    </tr>\n",
       "    <tr>\n",
       "      <th>max</th>\n",
       "      <td>5100.000000</td>\n",
       "      <td>43.000000</td>\n",
       "    </tr>\n",
       "  </tbody>\n",
       "</table>\n",
       "</div>"
      ],
      "text/plain": [
       "       customer_id         age\n",
       "count   100.000000  100.000000\n",
       "mean   5050.500000   28.480000\n",
       "std      29.011492    5.407589\n",
       "min    5001.000000   18.000000\n",
       "25%    5025.750000   24.000000\n",
       "50%    5050.500000   29.000000\n",
       "75%    5075.250000   31.250000\n",
       "max    5100.000000   43.000000"
      ]
     },
     "execution_count": 41,
     "metadata": {},
     "output_type": "execute_result"
    }
   ],
   "source": [
    "customers.describe()"
   ]
  },
  {
   "cell_type": "markdown",
   "id": "18c34f07-69db-4ebb-8d95-8f3f3ead476f",
   "metadata": {},
   "source": [
    "Customers dataset is also clean. It’s a young demographic (18–43), evenly distributed across loyalty tiers."
   ]
  },
  {
   "cell_type": "markdown",
   "id": "3a89b5fc-23c6-41b2-97b0-5dd58aba22c2",
   "metadata": {},
   "source": [
    "## holidays"
   ]
  },
  {
   "cell_type": "code",
   "execution_count": 3,
   "id": "5532ff12-a145-47e2-b2a2-4863330eb0f6",
   "metadata": {},
   "outputs": [
    {
     "data": {
      "text/plain": [
       "(8, 2)"
      ]
     },
     "execution_count": 3,
     "metadata": {},
     "output_type": "execute_result"
    }
   ],
   "source": [
    "holidays.shape"
   ]
  },
  {
   "cell_type": "code",
   "execution_count": 5,
   "id": "a3405c4e-1f43-4717-aff6-ecc39104d337",
   "metadata": {},
   "outputs": [
    {
     "data": {
      "text/plain": [
       "Index(['date', 'holiday'], dtype='object')"
      ]
     },
     "execution_count": 5,
     "metadata": {},
     "output_type": "execute_result"
    }
   ],
   "source": [
    "holidays.columns"
   ]
  },
  {
   "cell_type": "code",
   "execution_count": 6,
   "id": "1791a659-d2dc-43d7-879a-b8edcea9f195",
   "metadata": {},
   "outputs": [
    {
     "data": {
      "text/html": [
       "<div>\n",
       "<style scoped>\n",
       "    .dataframe tbody tr th:only-of-type {\n",
       "        vertical-align: middle;\n",
       "    }\n",
       "\n",
       "    .dataframe tbody tr th {\n",
       "        vertical-align: top;\n",
       "    }\n",
       "\n",
       "    .dataframe thead th {\n",
       "        text-align: right;\n",
       "    }\n",
       "</style>\n",
       "<table border=\"1\" class=\"dataframe\">\n",
       "  <thead>\n",
       "    <tr style=\"text-align: right;\">\n",
       "      <th></th>\n",
       "      <th>date</th>\n",
       "      <th>holiday</th>\n",
       "    </tr>\n",
       "  </thead>\n",
       "  <tbody>\n",
       "    <tr>\n",
       "      <th>0</th>\n",
       "      <td>2024-04-10</td>\n",
       "      <td>1</td>\n",
       "    </tr>\n",
       "    <tr>\n",
       "      <th>1</th>\n",
       "      <td>2024-04-11</td>\n",
       "      <td>1</td>\n",
       "    </tr>\n",
       "    <tr>\n",
       "      <th>2</th>\n",
       "      <td>2024-06-16</td>\n",
       "      <td>1</td>\n",
       "    </tr>\n",
       "    <tr>\n",
       "      <th>3</th>\n",
       "      <td>2024-06-17</td>\n",
       "      <td>1</td>\n",
       "    </tr>\n",
       "    <tr>\n",
       "      <th>4</th>\n",
       "      <td>2024-12-02</td>\n",
       "      <td>1</td>\n",
       "    </tr>\n",
       "  </tbody>\n",
       "</table>\n",
       "</div>"
      ],
      "text/plain": [
       "         date  holiday\n",
       "0  2024-04-10        1\n",
       "1  2024-04-11        1\n",
       "2  2024-06-16        1\n",
       "3  2024-06-17        1\n",
       "4  2024-12-02        1"
      ]
     },
     "execution_count": 6,
     "metadata": {},
     "output_type": "execute_result"
    }
   ],
   "source": [
    "holidays.head()"
   ]
  },
  {
   "cell_type": "code",
   "execution_count": 7,
   "id": "8c5e4482-646f-4505-9b5c-4be42529642c",
   "metadata": {},
   "outputs": [
    {
     "name": "stdout",
     "output_type": "stream",
     "text": [
      "<class 'pandas.core.frame.DataFrame'>\n",
      "RangeIndex: 8 entries, 0 to 7\n",
      "Data columns (total 2 columns):\n",
      " #   Column   Non-Null Count  Dtype \n",
      "---  ------   --------------  ----- \n",
      " 0   date     8 non-null      object\n",
      " 1   holiday  8 non-null      int64 \n",
      "dtypes: int64(1), object(1)\n",
      "memory usage: 256.0+ bytes\n"
     ]
    }
   ],
   "source": [
    "holidays.info()"
   ]
  },
  {
   "cell_type": "code",
   "execution_count": 8,
   "id": "acc5c5ad-e408-447d-b068-926f08d74580",
   "metadata": {},
   "outputs": [
    {
     "data": {
      "text/plain": [
       "date       0\n",
       "holiday    0\n",
       "dtype: int64"
      ]
     },
     "execution_count": 8,
     "metadata": {},
     "output_type": "execute_result"
    }
   ],
   "source": [
    "holidays.isnull().sum()"
   ]
  },
  {
   "cell_type": "code",
   "execution_count": 9,
   "id": "4e206564-1c44-469b-a204-65a706e6eecc",
   "metadata": {},
   "outputs": [
    {
     "data": {
      "text/html": [
       "<div>\n",
       "<style scoped>\n",
       "    .dataframe tbody tr th:only-of-type {\n",
       "        vertical-align: middle;\n",
       "    }\n",
       "\n",
       "    .dataframe tbody tr th {\n",
       "        vertical-align: top;\n",
       "    }\n",
       "\n",
       "    .dataframe thead th {\n",
       "        text-align: right;\n",
       "    }\n",
       "</style>\n",
       "<table border=\"1\" class=\"dataframe\">\n",
       "  <thead>\n",
       "    <tr style=\"text-align: right;\">\n",
       "      <th></th>\n",
       "      <th>holiday</th>\n",
       "    </tr>\n",
       "  </thead>\n",
       "  <tbody>\n",
       "    <tr>\n",
       "      <th>count</th>\n",
       "      <td>8.0</td>\n",
       "    </tr>\n",
       "    <tr>\n",
       "      <th>mean</th>\n",
       "      <td>1.0</td>\n",
       "    </tr>\n",
       "    <tr>\n",
       "      <th>std</th>\n",
       "      <td>0.0</td>\n",
       "    </tr>\n",
       "    <tr>\n",
       "      <th>min</th>\n",
       "      <td>1.0</td>\n",
       "    </tr>\n",
       "    <tr>\n",
       "      <th>25%</th>\n",
       "      <td>1.0</td>\n",
       "    </tr>\n",
       "    <tr>\n",
       "      <th>50%</th>\n",
       "      <td>1.0</td>\n",
       "    </tr>\n",
       "    <tr>\n",
       "      <th>75%</th>\n",
       "      <td>1.0</td>\n",
       "    </tr>\n",
       "    <tr>\n",
       "      <th>max</th>\n",
       "      <td>1.0</td>\n",
       "    </tr>\n",
       "  </tbody>\n",
       "</table>\n",
       "</div>"
      ],
      "text/plain": [
       "       holiday\n",
       "count      8.0\n",
       "mean       1.0\n",
       "std        0.0\n",
       "min        1.0\n",
       "25%        1.0\n",
       "50%        1.0\n",
       "75%        1.0\n",
       "max        1.0"
      ]
     },
     "execution_count": 9,
     "metadata": {},
     "output_type": "execute_result"
    }
   ],
   "source": [
    "holidays.describe()"
   ]
  },
  {
   "cell_type": "markdown",
   "id": "47c83216-ee81-4b17-ad05-7d131272d6ca",
   "metadata": {},
   "source": [
    "- The dataset is essentially a holiday calendar with only dates.\n",
    "- The holiday column is redundant, since every row = 1.\n",
    "- The real value here is in the date column—you can enrich it by extracting year, month, day, weekday, etc., and use it to analyze whether sales change on holidays."
   ]
  },
  {
   "cell_type": "markdown",
   "id": "0aeb53fe-52f1-418b-a6cd-ff1e91089139",
   "metadata": {},
   "source": [
    "## Cleaning & Standardizing"
   ]
  },
  {
   "cell_type": "markdown",
   "id": "4e00bf73-f89f-422a-b13a-7e049b0cfb42",
   "metadata": {},
   "source": [
    "Products Clean"
   ]
  },
  {
   "cell_type": "code",
   "execution_count": 3,
   "id": "b4c733f9-4005-4d25-bcb8-2b35e6ecac21",
   "metadata": {},
   "outputs": [
    {
     "name": "stdout",
     "output_type": "stream",
     "text": [
      "Copies made: 61091 26 4 100 8\n"
     ]
    }
   ],
   "source": [
    "# Make working copies so raw data stays unchanged\n",
    "sales_clean     = sales.copy()\n",
    "products_clean  = products.copy()\n",
    "stores_clean    = stores.copy()\n",
    "customers_clean = customers.copy()\n",
    "holidays_clean  = holidays.copy()\n",
    "\n",
    "print(\"Copies made:\", len(sales_clean), len(products_clean), len(stores_clean), len(customers_clean), len(holidays_clean))"
   ]
  },
  {
   "cell_type": "code",
   "execution_count": 4,
   "id": "3255a983-25ba-4640-a03a-96719b8cb76d",
   "metadata": {},
   "outputs": [
    {
     "name": "stdout",
     "output_type": "stream",
     "text": [
      "['Skincare' 'Bodycare' 'Haircare' 'Grooming']\n",
      "['Dermaglow' 'Sunguard' 'Pureclean' 'Bodysoft' 'Hairlux' 'Groompro']\n"
     ]
    }
   ],
   "source": [
    "# Standardize text formatting in products\n",
    "products_clean['category'] = products_clean['category'].str.strip().str.title()\n",
    "products_clean['brand']    = products_clean['brand'].str.strip().str.title()\n",
    "\n",
    "# Quick check\n",
    "print(products_clean['category'].unique())\n",
    "print(products_clean['brand'].unique())"
   ]
  },
  {
   "cell_type": "markdown",
   "id": "0fb5da26-658e-45b3-a936-9fc048798d22",
   "metadata": {},
   "source": [
    "Why: Category/brand values had mixed casing (e.g., “SKINCARE” vs “Skincare”). This breaks grouping and charts because the same thing is counted as different labels. I trimmed spaces and applied a consistent Title Case so aggregations are correct and visuals are clean."
   ]
  },
  {
   "cell_type": "markdown",
   "id": "127db311-5b7a-45ca-b298-507d30cb6aae",
   "metadata": {},
   "source": [
    "Holidays clean"
   ]
  },
  {
   "cell_type": "code",
   "execution_count": 5,
   "id": "6621a91e-4f2a-4a24-bf53-36476b3dcb7f",
   "metadata": {},
   "outputs": [
    {
     "data": {
      "text/html": [
       "<div>\n",
       "<style scoped>\n",
       "    .dataframe tbody tr th:only-of-type {\n",
       "        vertical-align: middle;\n",
       "    }\n",
       "\n",
       "    .dataframe tbody tr th {\n",
       "        vertical-align: top;\n",
       "    }\n",
       "\n",
       "    .dataframe thead th {\n",
       "        text-align: right;\n",
       "    }\n",
       "</style>\n",
       "<table border=\"1\" class=\"dataframe\">\n",
       "  <thead>\n",
       "    <tr style=\"text-align: right;\">\n",
       "      <th></th>\n",
       "      <th>date</th>\n",
       "      <th>year</th>\n",
       "      <th>month</th>\n",
       "      <th>day_name</th>\n",
       "    </tr>\n",
       "  </thead>\n",
       "  <tbody>\n",
       "    <tr>\n",
       "      <th>0</th>\n",
       "      <td>2024-04-10</td>\n",
       "      <td>2024</td>\n",
       "      <td>4</td>\n",
       "      <td>Wednesday</td>\n",
       "    </tr>\n",
       "    <tr>\n",
       "      <th>1</th>\n",
       "      <td>2024-04-11</td>\n",
       "      <td>2024</td>\n",
       "      <td>4</td>\n",
       "      <td>Thursday</td>\n",
       "    </tr>\n",
       "    <tr>\n",
       "      <th>2</th>\n",
       "      <td>2024-06-16</td>\n",
       "      <td>2024</td>\n",
       "      <td>6</td>\n",
       "      <td>Sunday</td>\n",
       "    </tr>\n",
       "    <tr>\n",
       "      <th>3</th>\n",
       "      <td>2024-06-17</td>\n",
       "      <td>2024</td>\n",
       "      <td>6</td>\n",
       "      <td>Monday</td>\n",
       "    </tr>\n",
       "    <tr>\n",
       "      <th>4</th>\n",
       "      <td>2024-12-02</td>\n",
       "      <td>2024</td>\n",
       "      <td>12</td>\n",
       "      <td>Monday</td>\n",
       "    </tr>\n",
       "  </tbody>\n",
       "</table>\n",
       "</div>"
      ],
      "text/plain": [
       "        date  year  month   day_name\n",
       "0 2024-04-10  2024      4  Wednesday\n",
       "1 2024-04-11  2024      4   Thursday\n",
       "2 2024-06-16  2024      6     Sunday\n",
       "3 2024-06-17  2024      6     Monday\n",
       "4 2024-12-02  2024     12     Monday"
      ]
     },
     "execution_count": 5,
     "metadata": {},
     "output_type": "execute_result"
    }
   ],
   "source": [
    "# HOLIDAYS — convert to real dates, drop constant column, add helpers\n",
    "holidays_clean['date'] = pd.to_datetime(holidays_clean['date'], errors='coerce')\n",
    "holidays_clean = holidays_clean.drop(columns=['holiday'])  # all 1s, not informative\n",
    "holidays_clean = holidays_clean.dropna(subset=['date']).drop_duplicates()\n",
    "\n",
    "# optional helpers for later analysis\n",
    "holidays_clean['year']     = holidays_clean['date'].dt.year\n",
    "holidays_clean['month']    = holidays_clean['date'].dt.month\n",
    "holidays_clean['day_name'] = holidays_clean['date'].dt.day_name()\n",
    "\n",
    "# preview\n",
    "holidays_clean.head()"
   ]
  },
  {
   "cell_type": "markdown",
   "id": "fc99a5e2-3173-4758-bcaf-796a6a5ffb5d",
   "metadata": {},
   "source": [
    "i need date in datetime format to join with sales and build time features. The holiday column was constant (=1) so it added no information and I removed it. I also added year/month/weekday so I can analyze seasonality and holiday effects quickly."
   ]
  },
  {
   "cell_type": "markdown",
   "id": "a68927ca-50b8-45e3-9a9e-4644a5e8f40e",
   "metadata": {},
   "source": [
    "Stores Clean"
   ]
  },
  {
   "cell_type": "code",
   "execution_count": 6,
   "id": "0e645863-91a4-4619-aba7-a5efc47e6d91",
   "metadata": {},
   "outputs": [
    {
     "name": "stdout",
     "output_type": "stream",
     "text": [
      "Store duplicates removed: 0\n"
     ]
    }
   ],
   "source": [
    "# STORES — tidy casing and spaces\n",
    "for col in ['store_name','city','region']:\n",
    "    stores_clean[col] = stores_clean[col].astype(str).str.strip()\n",
    "\n",
    "stores_clean['store_name'] = stores_clean['store_name'].str.title()\n",
    "stores_clean['city']       = stores_clean['city'].str.title()\n",
    "stores_clean['region']     = stores_clean['region'].str.upper()\n",
    "\n",
    "# drop exact duplicates (defensive)\n",
    "before = len(stores_clean)\n",
    "stores_clean = stores_clean.drop_duplicates(subset=['store_id'])\n",
    "print('Store duplicates removed:', before - len(stores_clean))"
   ]
  },
  {
   "cell_type": "markdown",
   "id": "5be7de3f-8231-4879-8709-4e590780724e",
   "metadata": {},
   "source": [
    "Store names and regions must be consistent to avoid duplicate group labels like “dxb” vs “DXB”. I standardized casing (Title Case for names/cities, UPPER for region) and removed any duplicate store rows by store_id."
   ]
  },
  {
   "cell_type": "markdown",
   "id": "d8f9f410-b8b6-423c-b071-720f2a2f0bd3",
   "metadata": {},
   "source": [
    "Customers Clean"
   ]
  },
  {
   "cell_type": "code",
   "execution_count": 7,
   "id": "bde90608-520d-42b0-a04c-7fd2247a17e3",
   "metadata": {},
   "outputs": [
    {
     "data": {
      "text/plain": [
       "count    100.000000\n",
       "mean      28.480000\n",
       "std        5.407589\n",
       "min       18.000000\n",
       "25%       24.000000\n",
       "50%       29.000000\n",
       "75%       31.250000\n",
       "max       43.000000\n",
       "Name: age, dtype: float64"
      ]
     },
     "execution_count": 7,
     "metadata": {},
     "output_type": "execute_result"
    }
   ],
   "source": [
    "# CUSTOMERS — standardize text and validate ranges\n",
    "customers_clean['gender']       = customers_clean['gender'].astype(str).str.strip().str.upper()\n",
    "customers_clean['loyalty_tier'] = customers_clean['loyalty_tier'].astype(str).str.strip().str.title()\n",
    "\n",
    "# enforce allowed values\n",
    "customers_clean['gender'] = customers_clean['gender'].where(customers_clean['gender'].isin(['F','M']), 'U')\n",
    "allowed_tiers = {'None','Silver','Gold','Platinum'}\n",
    "customers_clean['loyalty_tier'] = customers_clean['loyalty_tier'].where(\n",
    "    customers_clean['loyalty_tier'].isin(allowed_tiers), 'None'\n",
    ")\n",
    "\n",
    "# keep ages in a realistic range\n",
    "customers_clean['age'] = customers_clean['age'].clip(lower=16, upper=90)\n",
    "\n",
    "# quick checks\n",
    "customers_clean[['gender','loyalty_tier']].head()\n",
    "customers_clean['age'].describe()"
   ]
  },
  {
   "cell_type": "markdown",
   "id": "ef1e0c05-d035-4d52-90b6-be159b8d60cd",
   "metadata": {},
   "source": [
    "Categorical fields like gender and loyalty tier must be consistent for accurate counts. I standardized casing and enforced allowed values. I also clipped extreme ages to a realistic range to prevent outliers from skewing averages."
   ]
  },
  {
   "cell_type": "markdown",
   "id": "1cc5a93c-7d4c-47d2-89e4-fe4b91d0cd24",
   "metadata": {},
   "source": [
    "Sales Clean"
   ]
  },
  {
   "cell_type": "code",
   "execution_count": 8,
   "id": "41e8a3ee-53e6-4914-9ab0-cff187a75767",
   "metadata": {},
   "outputs": [
    {
     "name": "stdout",
     "output_type": "stream",
     "text": [
      "Sales duplicates removed: 102\n",
      "Dropped rows missing date or unit_price: 0\n",
      "Dropped invalid ID rows: 0\n"
     ]
    },
    {
     "data": {
      "text/html": [
       "<div>\n",
       "<style scoped>\n",
       "    .dataframe tbody tr th:only-of-type {\n",
       "        vertical-align: middle;\n",
       "    }\n",
       "\n",
       "    .dataframe tbody tr th {\n",
       "        vertical-align: top;\n",
       "    }\n",
       "\n",
       "    .dataframe thead th {\n",
       "        text-align: right;\n",
       "    }\n",
       "</style>\n",
       "<table border=\"1\" class=\"dataframe\">\n",
       "  <thead>\n",
       "    <tr style=\"text-align: right;\">\n",
       "      <th></th>\n",
       "      <th>order_date</th>\n",
       "      <th>product_id</th>\n",
       "      <th>store_id</th>\n",
       "      <th>customer_id</th>\n",
       "      <th>qty</th>\n",
       "      <th>unit_price</th>\n",
       "      <th>promo_code</th>\n",
       "      <th>net_revenue</th>\n",
       "    </tr>\n",
       "  </thead>\n",
       "  <tbody>\n",
       "    <tr>\n",
       "      <th>0</th>\n",
       "      <td>2024-01-01</td>\n",
       "      <td>1009</td>\n",
       "      <td>201</td>\n",
       "      <td>5067</td>\n",
       "      <td>1</td>\n",
       "      <td>36.48</td>\n",
       "      <td>WELCOME10</td>\n",
       "      <td>32.832</td>\n",
       "    </tr>\n",
       "    <tr>\n",
       "      <th>1</th>\n",
       "      <td>2024-01-01</td>\n",
       "      <td>1019</td>\n",
       "      <td>201</td>\n",
       "      <td>5065</td>\n",
       "      <td>1</td>\n",
       "      <td>51.61</td>\n",
       "      <td>NONE</td>\n",
       "      <td>51.610</td>\n",
       "    </tr>\n",
       "    <tr>\n",
       "      <th>2</th>\n",
       "      <td>2024-01-01</td>\n",
       "      <td>1012</td>\n",
       "      <td>202</td>\n",
       "      <td>5033</td>\n",
       "      <td>1</td>\n",
       "      <td>44.49</td>\n",
       "      <td>NONE</td>\n",
       "      <td>44.490</td>\n",
       "    </tr>\n",
       "    <tr>\n",
       "      <th>3</th>\n",
       "      <td>2024-01-01</td>\n",
       "      <td>1009</td>\n",
       "      <td>204</td>\n",
       "      <td>5040</td>\n",
       "      <td>1</td>\n",
       "      <td>35.10</td>\n",
       "      <td>WEEKEND5</td>\n",
       "      <td>33.345</td>\n",
       "    </tr>\n",
       "    <tr>\n",
       "      <th>4</th>\n",
       "      <td>2024-01-01</td>\n",
       "      <td>1007</td>\n",
       "      <td>201</td>\n",
       "      <td>5074</td>\n",
       "      <td>1</td>\n",
       "      <td>34.26</td>\n",
       "      <td>NONE</td>\n",
       "      <td>34.260</td>\n",
       "    </tr>\n",
       "  </tbody>\n",
       "</table>\n",
       "</div>"
      ],
      "text/plain": [
       "  order_date  product_id  store_id  customer_id  qty  unit_price promo_code  \\\n",
       "0 2024-01-01        1009       201         5067    1       36.48  WELCOME10   \n",
       "1 2024-01-01        1019       201         5065    1       51.61       NONE   \n",
       "2 2024-01-01        1012       202         5033    1       44.49       NONE   \n",
       "3 2024-01-01        1009       204         5040    1       35.10   WEEKEND5   \n",
       "4 2024-01-01        1007       201         5074    1       34.26       NONE   \n",
       "\n",
       "   net_revenue  \n",
       "0       32.832  \n",
       "1       51.610  \n",
       "2       44.490  \n",
       "3       33.345  \n",
       "4       34.260  "
      ]
     },
     "execution_count": 8,
     "metadata": {},
     "output_type": "execute_result"
    }
   ],
   "source": [
    "# SALES — 1) remove exact duplicates\n",
    "before = len(sales_clean)\n",
    "sales_clean = sales_clean.drop_duplicates()\n",
    "print('Sales duplicates removed:', before - len(sales_clean))\n",
    "\n",
    "# 2) parse dates\n",
    "sales_clean['order_date'] = pd.to_datetime(sales_clean['order_date'], errors='coerce')\n",
    "\n",
    "# 3) clean unit_price text → float\n",
    "sales_clean['unit_price'] = (\n",
    "    sales_clean['unit_price'].astype(str)\n",
    "        .str.replace('AED','', regex=False)\n",
    "        .str.replace(',','', regex=False)\n",
    "        .str.strip()\n",
    "        .replace('', pd.NA)\n",
    ")\n",
    "sales_clean['unit_price'] = pd.to_numeric(sales_clean['unit_price'], errors='coerce')\n",
    "\n",
    "# 4) handle text nulls\n",
    "sales_clean['promo_code']     = sales_clean['promo_code'].fillna('NONE')\n",
    "sales_clean['payment_method'] = sales_clean['payment_method'].fillna('Unknown')\n",
    "\n",
    "# 5) quantity → int, flag returns\n",
    "sales_clean['qty']       = pd.to_numeric(sales_clean['qty'], errors='coerce').fillna(0).astype(int)\n",
    "sales_clean['is_return'] = (sales_clean['qty'] < 0).astype(int)\n",
    "sales_clean['abs_qty']   = sales_clean['qty'].abs()\n",
    "\n",
    "# 6) compute clean net revenue with discount map\n",
    "discount_map = {'NONE':0.00, 'WELCOME10':0.10, 'WEEKEND5':0.05, 'BUNDLE15':0.15}\n",
    "sales_clean['discount_rate'] = sales_clean['promo_code'].map(discount_map).fillna(0.0)\n",
    "\n",
    "sales_clean['gross_revenue'] = sales_clean['abs_qty'] * sales_clean['unit_price']\n",
    "sales_clean['net_revenue']   = sales_clean['gross_revenue'] * (1 - sales_clean['discount_rate'])\n",
    "sales_clean.loc[sales_clean['is_return'] == 1, 'net_revenue'] *= -1\n",
    "\n",
    "# 7) drop rows unusable for analysis (missing critical fields)\n",
    "bad = sales_clean['order_date'].isna() | sales_clean['unit_price'].isna()\n",
    "print('Dropped rows missing date or unit_price:', bad.sum())\n",
    "sales_clean = sales_clean.loc[~bad].reset_index(drop=True)\n",
    "\n",
    "# 8) foreign-key checks — IDs should exist in dimension tables\n",
    "fk_bad_prod  = ~sales_clean['product_id'].isin(products_clean['product_id'])\n",
    "fk_bad_store = ~sales_clean['store_id'].isin(stores_clean['store_id'])\n",
    "fk_bad_cust  = ~sales_clean['customer_id'].isin(customers_clean['customer_id'])\n",
    "to_drop = fk_bad_prod | fk_bad_store | fk_bad_cust\n",
    "print('Dropped invalid ID rows:', to_drop.sum())\n",
    "sales_clean = sales_clean.loc[~to_drop].reset_index(drop=True)\n",
    "\n",
    "# peek\n",
    "sales_clean[['order_date','product_id','store_id','customer_id','qty','unit_price','promo_code','net_revenue']].head()"
   ]
  },
  {
   "cell_type": "markdown",
   "id": "0f8053ce-c0c8-4c4a-8656-d7078a3744aa",
   "metadata": {},
   "source": [
    "Sales is the fact table used for KPIs. I:\n",
    "- Removed duplicate rows to prevent double counting.\n",
    "- Parsed order_date and cleaned unit_price to numeric so math works.\n",
    "- Standardized promo_code/payment_method missing values.\n",
    "- Flagged returns (negative qty) and computed a reliable net_revenue using a clear discount map.\n",
    "- Dropped rows missing critical fields (date/price) and any rows with product/store/customer IDs not found in the reference tables, to avoid broken joins and incorrect totals."
   ]
  },
  {
   "cell_type": "markdown",
   "id": "0cc921d0-3a28-4bac-8c3e-4381f4a789ae",
   "metadata": {},
   "source": [
    "# Analysis-ready table"
   ]
  },
  {
   "cell_type": "code",
   "execution_count": 9,
   "id": "31ca77fa-1ca6-418a-8fc0-119edeb816ff",
   "metadata": {},
   "outputs": [
    {
     "data": {
      "text/html": [
       "<div>\n",
       "<style scoped>\n",
       "    .dataframe tbody tr th:only-of-type {\n",
       "        vertical-align: middle;\n",
       "    }\n",
       "\n",
       "    .dataframe tbody tr th {\n",
       "        vertical-align: top;\n",
       "    }\n",
       "\n",
       "    .dataframe thead th {\n",
       "        text-align: right;\n",
       "    }\n",
       "</style>\n",
       "<table border=\"1\" class=\"dataframe\">\n",
       "  <thead>\n",
       "    <tr style=\"text-align: right;\">\n",
       "      <th></th>\n",
       "      <th>order_id</th>\n",
       "      <th>order_date</th>\n",
       "      <th>store_id</th>\n",
       "      <th>customer_id</th>\n",
       "      <th>product_id</th>\n",
       "      <th>qty</th>\n",
       "      <th>unit_price</th>\n",
       "      <th>promo_code</th>\n",
       "      <th>line_total</th>\n",
       "      <th>payment_method</th>\n",
       "      <th>...</th>\n",
       "      <th>net_revenue</th>\n",
       "      <th>product_name</th>\n",
       "      <th>category</th>\n",
       "      <th>brand</th>\n",
       "      <th>store_name</th>\n",
       "      <th>city</th>\n",
       "      <th>region</th>\n",
       "      <th>is_holiday</th>\n",
       "      <th>order_month</th>\n",
       "      <th>weekday</th>\n",
       "    </tr>\n",
       "  </thead>\n",
       "  <tbody>\n",
       "    <tr>\n",
       "      <th>0</th>\n",
       "      <td>300001</td>\n",
       "      <td>2024-01-01</td>\n",
       "      <td>201</td>\n",
       "      <td>5067</td>\n",
       "      <td>1009</td>\n",
       "      <td>1</td>\n",
       "      <td>36.48</td>\n",
       "      <td>WELCOME10</td>\n",
       "      <td>32.83</td>\n",
       "      <td>Card</td>\n",
       "      <td>...</td>\n",
       "      <td>32.832</td>\n",
       "      <td>Micellar Water 400ml</td>\n",
       "      <td>Skincare</td>\n",
       "      <td>Pureclean</td>\n",
       "      <td>Dubai Mall</td>\n",
       "      <td>Dubai</td>\n",
       "      <td>DXB</td>\n",
       "      <td>0</td>\n",
       "      <td>2024-01-01</td>\n",
       "      <td>Monday</td>\n",
       "    </tr>\n",
       "    <tr>\n",
       "      <th>1</th>\n",
       "      <td>300002</td>\n",
       "      <td>2024-01-01</td>\n",
       "      <td>201</td>\n",
       "      <td>5065</td>\n",
       "      <td>1019</td>\n",
       "      <td>1</td>\n",
       "      <td>51.61</td>\n",
       "      <td>NONE</td>\n",
       "      <td>51.61</td>\n",
       "      <td>Card</td>\n",
       "      <td>...</td>\n",
       "      <td>51.610</td>\n",
       "      <td>Beard Oil 30ml</td>\n",
       "      <td>Grooming</td>\n",
       "      <td>Groompro</td>\n",
       "      <td>Dubai Mall</td>\n",
       "      <td>Dubai</td>\n",
       "      <td>DXB</td>\n",
       "      <td>0</td>\n",
       "      <td>2024-01-01</td>\n",
       "      <td>Monday</td>\n",
       "    </tr>\n",
       "    <tr>\n",
       "      <th>2</th>\n",
       "      <td>300003</td>\n",
       "      <td>2024-01-01</td>\n",
       "      <td>202</td>\n",
       "      <td>5033</td>\n",
       "      <td>1012</td>\n",
       "      <td>1</td>\n",
       "      <td>44.49</td>\n",
       "      <td>NONE</td>\n",
       "      <td>44.49</td>\n",
       "      <td>Tabby</td>\n",
       "      <td>...</td>\n",
       "      <td>44.490</td>\n",
       "      <td>Clay Mask 75ml</td>\n",
       "      <td>Skincare</td>\n",
       "      <td>Pureclean</td>\n",
       "      <td>Mall Of The Emirates</td>\n",
       "      <td>Dubai</td>\n",
       "      <td>DXB</td>\n",
       "      <td>0</td>\n",
       "      <td>2024-01-01</td>\n",
       "      <td>Monday</td>\n",
       "    </tr>\n",
       "    <tr>\n",
       "      <th>3</th>\n",
       "      <td>300004</td>\n",
       "      <td>2024-01-01</td>\n",
       "      <td>204</td>\n",
       "      <td>5040</td>\n",
       "      <td>1009</td>\n",
       "      <td>1</td>\n",
       "      <td>35.10</td>\n",
       "      <td>WEEKEND5</td>\n",
       "      <td>33.34</td>\n",
       "      <td>Tabby</td>\n",
       "      <td>...</td>\n",
       "      <td>33.345</td>\n",
       "      <td>Micellar Water 400ml</td>\n",
       "      <td>Skincare</td>\n",
       "      <td>Pureclean</td>\n",
       "      <td>Sharjah City Center</td>\n",
       "      <td>Sharjah</td>\n",
       "      <td>SHJ</td>\n",
       "      <td>0</td>\n",
       "      <td>2024-01-01</td>\n",
       "      <td>Monday</td>\n",
       "    </tr>\n",
       "    <tr>\n",
       "      <th>4</th>\n",
       "      <td>300005</td>\n",
       "      <td>2024-01-01</td>\n",
       "      <td>201</td>\n",
       "      <td>5074</td>\n",
       "      <td>1007</td>\n",
       "      <td>1</td>\n",
       "      <td>34.26</td>\n",
       "      <td>NONE</td>\n",
       "      <td>34.26</td>\n",
       "      <td>Tabby</td>\n",
       "      <td>...</td>\n",
       "      <td>34.260</td>\n",
       "      <td>Cleansing Balm 90g</td>\n",
       "      <td>Skincare</td>\n",
       "      <td>Pureclean</td>\n",
       "      <td>Dubai Mall</td>\n",
       "      <td>Dubai</td>\n",
       "      <td>DXB</td>\n",
       "      <td>0</td>\n",
       "      <td>2024-01-01</td>\n",
       "      <td>Monday</td>\n",
       "    </tr>\n",
       "  </tbody>\n",
       "</table>\n",
       "<p>5 rows × 24 columns</p>\n",
       "</div>"
      ],
      "text/plain": [
       "   order_id order_date  store_id  customer_id  product_id  qty  unit_price  \\\n",
       "0    300001 2024-01-01       201         5067        1009    1       36.48   \n",
       "1    300002 2024-01-01       201         5065        1019    1       51.61   \n",
       "2    300003 2024-01-01       202         5033        1012    1       44.49   \n",
       "3    300004 2024-01-01       204         5040        1009    1       35.10   \n",
       "4    300005 2024-01-01       201         5074        1007    1       34.26   \n",
       "\n",
       "  promo_code  line_total payment_method  ...  net_revenue  \\\n",
       "0  WELCOME10       32.83           Card  ...       32.832   \n",
       "1       NONE       51.61           Card  ...       51.610   \n",
       "2       NONE       44.49          Tabby  ...       44.490   \n",
       "3   WEEKEND5       33.34          Tabby  ...       33.345   \n",
       "4       NONE       34.26          Tabby  ...       34.260   \n",
       "\n",
       "           product_name  category      brand            store_name     city  \\\n",
       "0  Micellar Water 400ml  Skincare  Pureclean            Dubai Mall    Dubai   \n",
       "1        Beard Oil 30ml  Grooming   Groompro            Dubai Mall    Dubai   \n",
       "2        Clay Mask 75ml  Skincare  Pureclean  Mall Of The Emirates    Dubai   \n",
       "3  Micellar Water 400ml  Skincare  Pureclean   Sharjah City Center  Sharjah   \n",
       "4    Cleansing Balm 90g  Skincare  Pureclean            Dubai Mall    Dubai   \n",
       "\n",
       "  region is_holiday order_month weekday  \n",
       "0    DXB          0  2024-01-01  Monday  \n",
       "1    DXB          0  2024-01-01  Monday  \n",
       "2    DXB          0  2024-01-01  Monday  \n",
       "3    SHJ          0  2024-01-01  Monday  \n",
       "4    DXB          0  2024-01-01  Monday  \n",
       "\n",
       "[5 rows x 24 columns]"
      ]
     },
     "execution_count": 9,
     "metadata": {},
     "output_type": "execute_result"
    }
   ],
   "source": [
    "# Join product info\n",
    "sales_enriched = sales_clean.merge(\n",
    "    products_clean[['product_id','product_name','category','brand']],\n",
    "    on='product_id', how='left'\n",
    ")\n",
    "\n",
    "# Join store info\n",
    "sales_enriched = sales_enriched.merge(\n",
    "    stores_clean[['store_id','store_name','city','region']],\n",
    "    on='store_id', how='left'\n",
    ")\n",
    "\n",
    "# Add holiday flag (left join keeps all sales)\n",
    "sales_enriched = sales_enriched.merge(\n",
    "    holidays_clean[['date']].rename(columns={'date':'order_date'}).assign(is_holiday=1),\n",
    "    on='order_date', how='left'\n",
    ")\n",
    "sales_enriched['is_holiday'] = sales_enriched['is_holiday'].fillna(0).astype(int)\n",
    "\n",
    "# time helpers\n",
    "sales_enriched['order_month'] = sales_enriched['order_date'].values.astype('datetime64[M]')\n",
    "sales_enriched['weekday']     = sales_enriched['order_date'].dt.day_name()\n",
    "\n",
    "sales_enriched.head()"
   ]
  },
  {
   "cell_type": "markdown",
   "id": "510d5336-c82b-43ae-8c30-f42a3cd64d05",
   "metadata": {},
   "source": [
    " I created one analysis-ready table by joining product, store, and holiday context to each sale. This enables grouping by category/brand, region/city, and holiday vs non‑holiday without repeated joins later."
   ]
  },
  {
   "cell_type": "code",
   "execution_count": 10,
   "id": "7b2062b7-1075-413c-b725-7ea69478e9a0",
   "metadata": {},
   "outputs": [
    {
     "name": "stdout",
     "output_type": "stream",
     "text": [
      "Saved cleaned datasets to ./output/\n"
     ]
    }
   ],
   "source": [
    "import os\n",
    "os.makedirs('output', exist_ok=True)\n",
    "products_clean.to_csv('output/products_clean.csv',   index=False)\n",
    "stores_clean.to_csv('output/stores_clean.csv',       index=False)\n",
    "customers_clean.to_csv('output/customers_clean.csv', index=False)\n",
    "holidays_clean.to_csv('output/holidays_clean.csv',   index=False)\n",
    "sales_enriched.to_csv('output/sales_enriched.csv',   index=False)\n",
    "print('Saved cleaned datasets to ./output/')"
   ]
  },
  {
   "cell_type": "markdown",
   "id": "680a190d-bbc7-4ab4-a085-d409a9062c2e",
   "metadata": {},
   "source": [
    "Saving cleaned datasets makes the project reproducible and professional. Anyone can reload these “ready” files to compute KPIs and build dashboards without re-running all the cleaning."
   ]
  },
  {
   "cell_type": "markdown",
   "id": "d221c5f9-794e-49f1-90af-0b0962c2e139",
   "metadata": {},
   "source": [
    "# KPI Calculations"
   ]
  },
  {
   "cell_type": "code",
   "execution_count": 14,
   "id": "fc36a930-1705-47b3-98bf-587c027e3fd3",
   "metadata": {},
   "outputs": [
    {
     "name": "stdout",
     "output_type": "stream",
     "text": [
      "Total Revenue: 4031142.91\n",
      "Average Basket Size: 66.1\n",
      "Total Units Sold: 83301\n",
      "Average Units per Transaction: 1.37\n",
      "\n",
      "Revenue by Category:\n",
      " category\n",
      "Skincare    2.951540e+06\n",
      "Haircare    4.599775e+05\n",
      "Grooming    3.372481e+05\n",
      "Bodycare    2.823776e+05\n",
      "Name: net_revenue, dtype: float64\n",
      "\n",
      "Top 5 Products by Revenue:\n",
      " product_name\n",
      "Ceramide Moisturizer 50ml    261367.6615\n",
      "Night Repair Cream 50ml      252915.1565\n",
      "Moisturizer Gel 50ml         243854.3155\n",
      "AHA Serum 30ml               236806.6870\n",
      "BHA Serum 30ml               229947.9900\n",
      "Name: net_revenue, dtype: float64\n"
     ]
    }
   ],
   "source": [
    "df_sales = sales_enriched if 'sales_enriched' in globals() else sales_clean\n",
    "\n",
    "# 1) Total Revenue\n",
    "total_revenue = df_sales['net_revenue'].sum()\n",
    "print(\"Total Revenue:\", round(total_revenue, 2))\n",
    "\n",
    "# 2) Average Transaction Value (Average Basket)\n",
    "avg_basket = df_sales['net_revenue'].mean()\n",
    "print(\"Average Basket Size:\", round(avg_basket, 2))\n",
    "\n",
    "# 3) Total Units Sold\n",
    "total_units = df_sales['qty'].sum()\n",
    "print(\"Total Units Sold:\", int(total_units))\n",
    "\n",
    "# 4) Average Units per Transaction\n",
    "avg_units_per_txn = df_sales['qty'].mean()\n",
    "print(\"Average Units per Transaction:\", round(avg_units_per_txn, 2))\n",
    "\n",
    "# 5) Revenue by Category (needs sales_enriched with 'category')\n",
    "if 'category' in df_sales.columns:\n",
    "    revenue_by_category = (df_sales.groupby('category')['net_revenue']\n",
    "                           .sum()\n",
    "                           .sort_values(ascending=False))\n",
    "    print(\"\\nRevenue by Category:\\n\", revenue_by_category)\n",
    "else:\n",
    "    print(\"\\nRevenue by Category: build 'sales_enriched' first (join products).\")\n",
    "\n",
    "# 6) Top 5 Products by Revenue (needs product_name)\n",
    "if 'product_name' in df_sales.columns:\n",
    "    top_products = (df_sales.groupby('product_name')['net_revenue']\n",
    "                    .sum()\n",
    "                    .sort_values(ascending=False)\n",
    "                    .head(5))\n",
    "    print(\"\\nTop 5 Products by Revenue:\\n\", top_products)\n",
    "else:\n",
    "    print(\"\\nTop 5 Products: build 'sales_enriched' first (join products).\")"
   ]
  },
  {
   "cell_type": "markdown",
   "id": "e5fdb6e8-62e8-4149-9b20-6960af285a24",
   "metadata": {},
   "source": [
    "- Use net_revenue because it reflects discounts and returns; it’s the right measure for business KPIs.\n",
    "- Use qty for volume metrics.\n",
    "- Use sales_enriched for category/product breakdowns since it contains the joined context (category, brand, store, holiday)."
   ]
  },
  {
   "cell_type": "markdown",
   "id": "cd01d79c-1d8d-4ccc-b10a-8ba21b261c10",
   "metadata": {},
   "source": [
    "# Time Based Analysis"
   ]
  },
  {
   "cell_type": "markdown",
   "id": "dd51b0a2-981a-46ca-aec2-5efd3127a30a",
   "metadata": {},
   "source": [
    "### Monthly Revenue Trend"
   ]
  },
  {
   "cell_type": "code",
   "execution_count": 15,
   "id": "4655e00c-ecc9-45b5-8057-b65009ff7c71",
   "metadata": {},
   "outputs": [
    {
     "name": "stdout",
     "output_type": "stream",
     "text": [
      "order_month\n",
      "2024-01-01    211797.5785\n",
      "2024-02-01    207082.1720\n",
      "2024-03-01    216636.3845\n",
      "2024-04-01    208949.3620\n",
      "2024-05-01    218612.7220\n",
      "2024-06-01    193583.2535\n",
      "2024-07-01    192292.0495\n",
      "2024-08-01    199149.8095\n",
      "2024-09-01    202759.9295\n",
      "2024-10-01    207871.1950\n",
      "2024-11-01    270316.6155\n",
      "2024-12-01    265077.1985\n",
      "2025-01-01    203002.2945\n",
      "2025-02-01    196384.7750\n",
      "2025-03-01    222575.1495\n",
      "2025-04-01    197858.0275\n",
      "2025-05-01    226089.9180\n",
      "2025-06-01    189281.4780\n",
      "2025-07-01    187587.9075\n",
      "2025-08-01      2817.8770\n",
      "2025-09-01      2927.2070\n",
      "2025-10-01      3313.2350\n",
      "2025-11-01      2204.9380\n",
      "2025-12-01      2971.8295\n",
      "Name: net_revenue, dtype: float64\n"
     ]
    }
   ],
   "source": [
    "monthly_revenue = (sales_enriched\n",
    "                   .groupby('order_month')['net_revenue']\n",
    "                   .sum())\n",
    "\n",
    "print(monthly_revenue)"
   ]
  },
  {
   "cell_type": "markdown",
   "id": "371a5f5f-c4da-4c5d-8058-6ed6e165827b",
   "metadata": {},
   "source": [
    "Businesses need to know if revenue is growing, seasonal, or declining."
   ]
  },
  {
   "cell_type": "markdown",
   "id": "5561c741-54e7-4584-ba02-a3be55e8bcbd",
   "metadata": {},
   "source": [
    "### Revenue by Weekday"
   ]
  },
  {
   "cell_type": "code",
   "execution_count": 16,
   "id": "b704ef3a-eb93-44a5-ad12-e703b30f221a",
   "metadata": {},
   "outputs": [
    {
     "name": "stdout",
     "output_type": "stream",
     "text": [
      "weekday\n",
      "Monday       402831.1880\n",
      "Tuesday      428118.0895\n",
      "Wednesday    452876.9140\n",
      "Thursday     492312.2520\n",
      "Friday       654931.0635\n",
      "Saturday     952331.3095\n",
      "Sunday       647742.0900\n",
      "Name: net_revenue, dtype: float64\n"
     ]
    }
   ],
   "source": [
    "weekday_revenue = (sales_enriched\n",
    "                   .groupby('weekday')['net_revenue']\n",
    "                   .sum()\n",
    "                   .reindex(\n",
    "                       ['Monday','Tuesday','Wednesday','Thursday','Friday','Saturday','Sunday']\n",
    "                   ))\n",
    "print(weekday_revenue)"
   ]
  },
  {
   "cell_type": "markdown",
   "id": "a2d3cbdc-5f50-495b-ac4d-2ef58c5cc18a",
   "metadata": {},
   "source": [
    "Shows which days customers spend most, useful for staffing/promotions."
   ]
  },
  {
   "cell_type": "markdown",
   "id": "0912b718-e1f1-470e-a841-49bd0a9b7423",
   "metadata": {},
   "source": [
    "### Holiday vs Non-Holiday Sales"
   ]
  },
  {
   "cell_type": "code",
   "execution_count": 17,
   "id": "a9a83629-2a94-430c-8298-46ed6bdfe03b",
   "metadata": {},
   "outputs": [
    {
     "name": "stdout",
     "output_type": "stream",
     "text": [
      "is_holiday\n",
      "Non-Holiday    3.980588e+06\n",
      "Holiday        5.055522e+04\n",
      "Name: net_revenue, dtype: float64\n"
     ]
    }
   ],
   "source": [
    "holiday_sales = (sales_enriched\n",
    "                 .groupby('is_holiday')['net_revenue']\n",
    "                 .sum())\n",
    "holiday_sales.index = holiday_sales.index.map({0:'Non-Holiday',1:'Holiday'})\n",
    "print(holiday_sales)"
   ]
  },
  {
   "cell_type": "markdown",
   "id": "24dd751a-334e-4df2-9be4-45ae3ec07bc8",
   "metadata": {},
   "source": [
    "Tests if promotions/holidays really boost revenue."
   ]
  },
  {
   "cell_type": "markdown",
   "id": "f803015e-0e3d-4f83-bb19-3fee6ba75b8a",
   "metadata": {},
   "source": [
    "# Customer Segmentation & Behavior Analysis"
   ]
  },
  {
   "cell_type": "code",
   "execution_count": 18,
   "id": "6f0a712a-7630-4130-afbd-5c3d787ca09b",
   "metadata": {},
   "outputs": [
    {
     "name": "stdout",
     "output_type": "stream",
     "text": [
      "customer_id\n",
      "False    7.630451e+03\n",
      "True     4.023512e+06\n",
      "Name: net_revenue, dtype: float64\n"
     ]
    }
   ],
   "source": [
    "customer_revenue = (sales_enriched\n",
    "                    .groupby('customer_id')\n",
    "                    ['net_revenue'].sum()\n",
    "                    .reset_index())\n",
    "\n",
    "repeat_customers = sales_enriched[sales_enriched.duplicated('customer_id')]\n",
    "new_vs_repeat = sales_enriched.groupby(sales_enriched['customer_id'].duplicated())['net_revenue'].sum()\n",
    "print(new_vs_repeat)"
   ]
  },
  {
   "cell_type": "markdown",
   "id": "55c20898-f43f-4e21-8ba7-62db9299d5cb",
   "metadata": {},
   "source": [
    "Repeat vs. New Customers\n",
    "\n",
    "- Measure how much revenue comes from new customers vs. returning customers.\n",
    "\n",
    "Justification: This helps businesses know if growth is coming from loyal customers or new acquisition."
   ]
  },
  {
   "cell_type": "markdown",
   "id": "9bfbb359-bede-4f86-ac1d-744ada160cdb",
   "metadata": {},
   "source": [
    "### Customer Lifetime Value (CLV) Approximation\n",
    "\n",
    "- Look at average revenue per customer across the dataset.\n",
    "\n",
    "Justification: Indicates how valuable an average customer is, guiding retention strategies."
   ]
  },
  {
   "cell_type": "code",
   "execution_count": 19,
   "id": "195cf150-d151-456b-9e9f-3f03f074b99f",
   "metadata": {},
   "outputs": [
    {
     "name": "stdout",
     "output_type": "stream",
     "text": [
      "Average Customer Lifetime Value: 40311.429065000004\n"
     ]
    }
   ],
   "source": [
    "clv = customer_revenue['net_revenue'].mean()\n",
    "print(\"Average Customer Lifetime Value:\", clv)"
   ]
  },
  {
   "cell_type": "markdown",
   "id": "03483389-5e1b-49a6-b578-520d970317f5",
   "metadata": {},
   "source": [
    "### Top Customers by Spend\n",
    "\n",
    "- Identify the most valuable customers.\n",
    "- Justification: Useful for loyalty programs and premium targeting.\n"
   ]
  },
  {
   "cell_type": "code",
   "execution_count": 20,
   "id": "516df90f-24c8-450c-9020-f383968d1b96",
   "metadata": {},
   "outputs": [
    {
     "name": "stdout",
     "output_type": "stream",
     "text": [
      "    customer_id  net_revenue\n",
      "80         5081   45127.6180\n",
      "14         5015   44271.6190\n",
      "61         5062   44180.5200\n",
      "48         5049   44037.5735\n",
      "79         5080   43941.0815\n",
      "51         5052   43267.5050\n",
      "30         5031   43112.0305\n",
      "57         5058   42654.2475\n",
      "6          5007   42645.7090\n",
      "99         5100   42625.3890\n"
     ]
    }
   ],
   "source": [
    "top_customers = customer_revenue.sort_values(by='net_revenue', ascending=False).head(10)\n",
    "print(top_customers)"
   ]
  },
  {
   "cell_type": "markdown",
   "id": "b7c3c374-edbe-41ea-9c25-d763dc98c60d",
   "metadata": {},
   "source": [
    "Repeat vs New Customers\n",
    "- New customers revenue ≈ 7.6k\n",
    "- Repeat customers revenue ≈ 4.02M\n",
    "- Interpretation → Almost all revenue is coming from repeat customers, which means loyalty is very strong, but acquisition is weak.\n",
    "\n",
    "Customer Lifetime Value (CLV)\n",
    "- Average customer spends ≈ 40.3k across their lifecycle.\n",
    "- This is your benchmark value of how much a single customer is worth.\n",
    "\n",
    "Top Customers by Spend\n",
    "- Highest spending customer generated ≈ 45k.\n",
    "- You now know which customer IDs are most valuable (useful for retention & loyalty targeting).\n",
    "\n",
    "Revenue is heavily concentrated in repeat customers, meaning acquisition strategies need to be strengthened to diversify growth. CLV of ~40k shows each customer has high potential — retention programs (loyalty, discounts, early access) are crucial.\n",
    "The top 10 customers contribute disproportionately to revenue, so they should be flagged as VIPs for premium targeting."
   ]
  },
  {
   "cell_type": "markdown",
   "id": "8f8703b6-9220-40e4-b4ec-b2f306a6d5f1",
   "metadata": {},
   "source": [
    "# Time Series & Trends Analysis (to understand when sales happen and seasonal effects)."
   ]
  },
  {
   "cell_type": "markdown",
   "id": "703aa90c-9f5b-49a8-8979-e9fbed6d2b23",
   "metadata": {},
   "source": [
    "### Monthly Revenue Trend "
   ]
  },
  {
   "cell_type": "code",
   "execution_count": 21,
   "id": "11a298d8-b59b-4bb6-ae7e-f3a69a0e6030",
   "metadata": {},
   "outputs": [
    {
     "name": "stdout",
     "output_type": "stream",
     "text": [
      "order_date\n",
      "2024-01    211797.5785\n",
      "2024-02    207082.1720\n",
      "2024-03    216636.3845\n",
      "2024-04    208949.3620\n",
      "2024-05    218612.7220\n",
      "2024-06    193583.2535\n",
      "2024-07    192292.0495\n",
      "2024-08    199149.8095\n",
      "2024-09    202759.9295\n",
      "2024-10    207871.1950\n",
      "2024-11    270316.6155\n",
      "2024-12    265077.1985\n",
      "2025-01    203002.2945\n",
      "2025-02    196384.7750\n",
      "2025-03    222575.1495\n",
      "2025-04    197858.0275\n",
      "2025-05    226089.9180\n",
      "2025-06    189281.4780\n",
      "2025-07    187587.9075\n",
      "2025-08      2817.8770\n",
      "2025-09      2927.2070\n",
      "2025-10      3313.2350\n",
      "2025-11      2204.9380\n",
      "2025-12      2971.8295\n",
      "Freq: M, Name: net_revenue, dtype: float64\n"
     ]
    }
   ],
   "source": [
    "sales_enriched['order_date'] = pd.to_datetime(sales_enriched['order_date'])\n",
    "monthly_revenue = (sales_enriched\n",
    "                   .groupby(sales_enriched['order_date'].dt.to_period('M'))['net_revenue']\n",
    "                   .sum())\n",
    "print(monthly_revenue)"
   ]
  },
  {
   "cell_type": "markdown",
   "id": "7caeba4e-fe5e-453a-b51d-9c7917400ae9",
   "metadata": {},
   "source": [
    "- This will show you revenue growth or decline over time.\n",
    "Justification: Helps spot seasonality, growth trends, and demand cycles."
   ]
  },
  {
   "cell_type": "markdown",
   "id": "46cb2db0-87f5-4d17-9df9-ddbcee596095",
   "metadata": {},
   "source": [
    "### Category Trends Over Time "
   ]
  },
  {
   "cell_type": "code",
   "execution_count": 22,
   "id": "b6f9dd2c-3b86-4d63-a17f-477ffe86cb2a",
   "metadata": {},
   "outputs": [
    {
     "name": "stdout",
     "output_type": "stream",
     "text": [
      "category      Bodycare    Grooming    Haircare     Skincare\n",
      "order_date                                                 \n",
      "2024-01     14540.6490  16141.2960  24017.3155  157098.3180\n",
      "2024-02     14587.3045  18038.9885  24802.4085  149653.4705\n",
      "2024-03     15773.3380  15453.9940  24513.5280  160895.5245\n",
      "2024-04     14569.7740  18534.5160  23244.5310  152600.5410\n",
      "2024-05     15850.5955  17772.5260  26670.8535  158318.7470\n",
      "2024-06     13843.3040  15602.5220  22900.8670  141236.5605\n",
      "2024-07     14438.8700  16665.9520  20061.6200  141125.6075\n",
      "2024-08     14117.1195  16148.6380  23900.5195  144983.5325\n",
      "2024-09     13118.9125  17335.5060  23461.5295  148843.9815\n",
      "2024-10     15208.5010  17739.1005  26487.1980  148436.3955\n",
      "2024-11     17693.6915  21844.4330  30036.1100  200742.3810\n",
      "2024-12     17101.7835  23268.5550  29665.9205  195040.9395\n",
      "2025-01     14529.1980  18340.4830  22399.1365  147733.4770\n",
      "2025-02     14237.5365  16832.6695  20820.6710  144493.8980\n",
      "2025-03     16318.3595  18090.1745  24544.7500  163621.8655\n",
      "2025-04     13980.4710  16753.2450  21343.0340  145781.2775\n",
      "2025-05     16003.2430  19691.5350  26554.7560  163840.3840\n",
      "2025-06     13487.0840  16852.4900  22653.6705  136288.2335\n",
      "2025-07     11896.5780  15003.2025  19795.2140  140892.9130\n",
      "2025-08       159.3920    156.5795    421.9825    2079.9230\n",
      "2025-09       130.5200    362.6000    329.8700    2104.2170\n",
      "2025-10       259.0265    104.1900    508.5070    2441.5115\n",
      "2025-11        91.4600    205.7740    360.7340    1546.9700\n",
      "2025-12       440.8620    309.1300    482.7590    1739.0785\n"
     ]
    }
   ],
   "source": [
    "monthly_category = (sales_enriched\n",
    "                    .groupby([sales_enriched['order_date'].dt.to_period('M'), 'category'])['net_revenue']\n",
    "                    .sum()\n",
    "                    .unstack())\n",
    "print(monthly_category)"
   ]
  },
  {
   "cell_type": "markdown",
   "id": "b6bad252-3946-4d83-860c-bc48f1dd4cdd",
   "metadata": {},
   "source": [
    "- This shows which categories grow or decline by month.\n",
    "Justification: Guides marketing spend and inventory planning."
   ]
  },
  {
   "cell_type": "markdown",
   "id": "a657b5d3-efb3-41f7-a28e-d084f4b2fcd4",
   "metadata": {},
   "source": [
    "# Store & Regional Performance Analysis"
   ]
  },
  {
   "cell_type": "markdown",
   "id": "0f2825aa-5aaf-4637-a727-c16b9443afac",
   "metadata": {},
   "source": [
    "This will show which stores, locations, or regions are driving the most value."
   ]
  },
  {
   "cell_type": "markdown",
   "id": "996aae9a-351b-4ff7-b441-2675d9fdfe60",
   "metadata": {},
   "source": [
    "### Revenue by store"
   ]
  },
  {
   "cell_type": "code",
   "execution_count": 23,
   "id": "d2ca25d0-3ba0-4899-8904-9d02c2615e18",
   "metadata": {},
   "outputs": [
    {
     "name": "stdout",
     "output_type": "stream",
     "text": [
      "store_id\n",
      "201    1.013177e+06\n",
      "203    1.009753e+06\n",
      "202    1.005732e+06\n",
      "204    1.002480e+06\n",
      "Name: net_revenue, dtype: float64\n"
     ]
    }
   ],
   "source": [
    "store_performance = (sales_enriched\n",
    "                     .groupby('store_id')['net_revenue']\n",
    "                     .sum()\n",
    "                     .sort_values(ascending=False))\n",
    "print(store_performance.head(10))"
   ]
  },
  {
   "cell_type": "markdown",
   "id": "531ca5f7-c2fa-49d6-a33a-866c4aaa4182",
   "metadata": {},
   "source": [
    "- This gives you the top performing stores.\n",
    "Justification: Helps identify high-performing vs struggling stores."
   ]
  },
  {
   "cell_type": "markdown",
   "id": "8a1fee4c-24e4-43cf-b17b-85c4467f273b",
   "metadata": {},
   "source": [
    "### Store Performance"
   ]
  },
  {
   "cell_type": "code",
   "execution_count": 26,
   "id": "379c4221-ebe4-4818-913f-1ead5be32046",
   "metadata": {},
   "outputs": [
    {
     "name": "stdout",
     "output_type": "stream",
     "text": [
      "store_id\n",
      "201    1.013177e+06\n",
      "203    1.009753e+06\n",
      "202    1.005732e+06\n",
      "204    1.002480e+06\n",
      "Name: net_revenue, dtype: float64\n"
     ]
    }
   ],
   "source": [
    "store_performance = (sales_enriched\n",
    "                     .groupby('store_id')['net_revenue']\n",
    "                     .sum()\n",
    "                     .sort_values(ascending=False))\n",
    "print(store_performance.head(10))"
   ]
  },
  {
   "cell_type": "markdown",
   "id": "e761109c-6072-4ca2-94e3-6a3f65ac5475",
   "metadata": {},
   "source": [
    "- Justification:\n",
    "Identifies which stores generate the most revenue."
   ]
  },
  {
   "cell_type": "markdown",
   "id": "06dde454-444c-49e9-ad2e-b60d65f9e9b5",
   "metadata": {},
   "source": [
    "### Holiday Analysis"
   ]
  },
  {
   "cell_type": "code",
   "execution_count": 29,
   "id": "7fd9030c-9c2a-477f-ad73-b45c04c763cd",
   "metadata": {},
   "outputs": [
    {
     "name": "stdout",
     "output_type": "stream",
     "text": [
      "order_date\n",
      "2025-06-06    9222.8940\n",
      "2024-06-16    8562.7680\n",
      "2024-12-02    7880.3385\n",
      "2024-04-11    7397.7655\n",
      "2025-04-09    6332.3590\n",
      "2024-04-10    5949.3915\n",
      "2024-06-17    4806.9560\n",
      "2025-12-02     402.7500\n",
      "Name: net_revenue, dtype: float64\n"
     ]
    }
   ],
   "source": [
    "holiday_flag = holidays_clean[['date']].rename(columns={'date':'order_date'}).assign(is_holiday=1)\n",
    "\n",
    "holiday_by_date_via_merge = (sales_enriched\n",
    "                             .merge(holiday_flag, on='order_date', how='inner')\n",
    "                             .groupby('order_date')['net_revenue']\n",
    "                             .sum()\n",
    "                             .sort_values(ascending=False))\n",
    "print(holiday_by_date_via_merge.head(10))"
   ]
  },
  {
   "cell_type": "markdown",
   "id": "91e17d53-6eb3-4ce3-bd46-d6754304ba6e",
   "metadata": {},
   "source": [
    "# Visualisation & Reporting"
   ]
  },
  {
   "cell_type": "code",
   "execution_count": 33,
   "id": "25eb92b3-d6ce-4907-9ef7-eec1d3909cf1",
   "metadata": {},
   "outputs": [
    {
     "data": {
      "image/png": "[encoded data removed]",
      "text/plain": [
       "<Figure size 504x360 with 1 Axes>"
      ]
     },
     "metadata": {
      "needs_background": "light"
     },
     "output_type": "display_data"
    },
    {
     "data": {
      "image/png": "[encoded data removed]",
      "text/plain": [
       "<Figure size 576x360 with 1 Axes>"
      ]
     },
     "metadata": {
      "needs_background": "light"
     },
     "output_type": "display_data"
    },
    {
     "data": {
      "image/png": "[encoded data removed]",
      "text/plain": [
       "<Figure size 576x360 with 1 Axes>"
      ]
     },
     "metadata": {
      "needs_background": "light"
     },
     "output_type": "display_data"
    },
    {
     "data": {
      "image/png": "[encoded data removed]",
      "text/plain": [
       "<Figure size 720x360 with 1 Axes>"
      ]
     },
     "metadata": {
      "needs_background": "light"
     },
     "output_type": "display_data"
    },
    {
     "data": {
      "image/png": "[encoded data removed]",
      "text/plain": [
       "<Figure size 576x360 with 1 Axes>"
      ]
     },
     "metadata": {
      "needs_background": "light"
     },
     "output_type": "display_data"
    },
    {
     "data": {
      "image/png": "[encoded data removed]",
      "text/plain": [
       "<Figure size 432x360 with 1 Axes>"
      ]
     },
     "metadata": {
      "needs_background": "light"
     },
     "output_type": "display_data"
    },
    {
     "name": "stdout",
     "output_type": "stream",
     "text": [
      "Saved figures to ./output/: ['fig_new_vs_repeat.png', 'fig_top10_customers.png', 'fig_weekday_revenue.png', 'fig_clv_hist.png', 'fig_holiday_vs_non.png', 'fig_monthly_revenue.png']\n"
     ]
    }
   ],
   "source": [
    "import os\n",
    "import numpy as np\n",
    "import matplotlib.pyplot as plt\n",
    "\n",
    "os.makedirs(\"output\", exist_ok=True)\n",
    "\n",
    "# We'll use sales_enriched for context columns (category, product_name, is_holiday, order_date, etc.)\n",
    "if 'sales_enriched' not in globals():\n",
    "    raise RuntimeError(\"sales_enriched is missing. Run the cleaning & join section first.\")\n",
    "\n",
    "# Ensure order_date is datetime and exists\n",
    "sales_enriched['order_date'] = pd.to_datetime(sales_enriched['order_date'], errors='coerce')\n",
    "\n",
    "#  Recompute core aggregates\n",
    "\n",
    "# 1) Customer revenue (for CLV and top customers)\n",
    "customer_revenue = (sales_enriched\n",
    "                    .groupby('customer_id')['net_revenue']\n",
    "                    .sum()\n",
    "                    .reset_index()\n",
    "                    .rename(columns={'net_revenue':'customer_total'}))\n",
    "\n",
    "# 2) New vs Repeat revenue at the ORDER level (more accurate than line level)\n",
    "#    - Aggregate to orders, attach customer_id & order_date\n",
    "order_df = (sales_enriched\n",
    "            .groupby(['order_id','customer_id'])[['net_revenue','order_date']]\n",
    "            .agg({'net_revenue':'sum','order_date':'min'})\n",
    "            .reset_index())\n",
    "\n",
    "#    - Mark each customer's first order as \"new\", others as \"repeat\"\n",
    "order_df = order_df.sort_values(['customer_id','order_date'])\n",
    "first_order_idx = order_df.groupby('customer_id').head(1).index\n",
    "order_df['is_new_customer'] = 0\n",
    "order_df.loc[first_order_idx, 'is_new_customer'] = 1\n",
    "\n",
    "new_vs_repeat = (order_df\n",
    "                 .groupby('is_new_customer')['net_revenue']\n",
    "                 .sum()\n",
    "                 .rename(index={0:'Repeat Customers', 1:'New Customers'}))\n",
    "\n",
    "# 3) Monthly revenue time series (Month Start, MS)\n",
    "monthly_revenue = (sales_enriched\n",
    "                   .set_index('order_date')\n",
    "                   .resample('MS')['net_revenue']\n",
    "                   .sum())\n",
    "\n",
    "# 4) Weekday revenue (ordered Monday→Sunday)\n",
    "weekday_order = ['Monday','Tuesday','Wednesday','Thursday','Friday','Saturday','Sunday']\n",
    "weekday_revenue = (sales_enriched\n",
    "                   .assign(weekday=sales_enriched['order_date'].dt.day_name())\n",
    "                   .groupby('weekday')['net_revenue']\n",
    "                   .sum()\n",
    "                   .reindex(weekday_order))\n",
    "\n",
    "# 5) Holiday vs Non-Holiday revenue\n",
    "holiday_vs_non = (sales_enriched\n",
    "                  .groupby('is_holiday')['net_revenue']\n",
    "                  .sum()\n",
    "                  .rename(index={0:'Non-Holiday', 1:'Holiday'}))\n",
    "\n",
    "# 6) Top 10 customers by spend\n",
    "top_customers = (customer_revenue\n",
    "                 .sort_values('customer_total', ascending=False)\n",
    "                 .head(10))\n",
    "\n",
    "# PLOTS\n",
    "\n",
    "# A) New vs Repeat Customers (Bar)\n",
    "plt.figure(figsize=(7,5))\n",
    "new_vs_repeat.plot(kind='bar')\n",
    "plt.title(\"Revenue: New vs Repeat Customers\")\n",
    "plt.ylabel(\"Net Revenue\")\n",
    "plt.xlabel(\"\")\n",
    "plt.tight_layout()\n",
    "plt.savefig(\"output/fig_new_vs_repeat.png\", dpi=150)\n",
    "plt.show()\n",
    "\n",
    "# B) CLV Distribution (Histogram)\n",
    "plt.figure(figsize=(8,5))\n",
    "plt.hist(customer_revenue['customer_total'].values, bins=30)\n",
    "plt.title(\"Distribution of Customer Lifetime Value (CLV)\")\n",
    "plt.xlabel(\"Net Revenue per Customer\")\n",
    "plt.ylabel(\"Number of Customers\")\n",
    "plt.tight_layout()\n",
    "plt.savefig(\"output/fig_clv_hist.png\", dpi=150)\n",
    "plt.show()\n",
    "\n",
    "# C) Top 10 Customers (Horizontal Bar)\n",
    "plt.figure(figsize=(8,5))\n",
    "plt.barh(top_customers['customer_id'].astype(str), top_customers['customer_total'].values)\n",
    "plt.title(\"Top 10 Customers by Spend\")\n",
    "plt.xlabel(\"Net Revenue\")\n",
    "plt.ylabel(\"Customer ID\")\n",
    "plt.tight_layout()\n",
    "plt.savefig(\"output/fig_top10_customers.png\", dpi=150)\n",
    "plt.show()\n",
    "\n",
    "# D) Monthly Revenue Trend (Line) with 3‑month Moving Average\n",
    "ma3 = monthly_revenue.rolling(window=3, min_periods=1).mean()\n",
    "plt.figure(figsize=(10,5))\n",
    "plt.plot(monthly_revenue.index, monthly_revenue.values, label=\"Monthly Revenue\")\n",
    "plt.plot(ma3.index, ma3.values, label=\"3-Month Moving Average\")\n",
    "plt.title(\"Monthly Revenue Trend\")\n",
    "plt.xlabel(\"Month\")\n",
    "plt.ylabel(\"Net Revenue\")\n",
    "plt.legend()\n",
    "plt.tight_layout()\n",
    "plt.savefig(\"output/fig_monthly_revenue.png\", dpi=150)\n",
    "plt.show()\n",
    "\n",
    "# E) Weekday Revenue (Bar)\n",
    "plt.figure(figsize=(8,5))\n",
    "plt.bar(weekday_revenue.index, weekday_revenue.values)\n",
    "plt.title(\"Revenue by Weekday\")\n",
    "plt.xlabel(\"Weekday\")\n",
    "plt.ylabel(\"Net Revenue\")\n",
    "plt.tight_layout()\n",
    "plt.savefig(\"output/fig_weekday_revenue.png\", dpi=150)\n",
    "plt.show()\n",
    "\n",
    "# F) Holiday vs Non-Holiday (Bar)\n",
    "plt.figure(figsize=(6,5))\n",
    "plt.bar(holiday_vs_non.index, holiday_vs_non.values)\n",
    "plt.title(\"Holiday vs Non-Holiday Revenue\")\n",
    "plt.xlabel(\"\")\n",
    "plt.ylabel(\"Net Revenue\")\n",
    "plt.tight_layout()\n",
    "plt.savefig(\"output/fig_holiday_vs_non.png\", dpi=150)\n",
    "plt.show()\n",
    "\n",
    "print(\"Saved figures to ./output/:\",\n",
    "      [f for f in os.listdir('output') if f.endswith('.png')])"
   ]
  },
  {
   "cell_type": "markdown",
   "id": "e842c557-cdcd-456f-a2c7-8330d73d456a",
   "metadata": {},
   "source": [
    "### Visualisation Summary\n",
    "\n",
    "- **New vs Repeat:** Confirms that most revenue is driven by repeat customers. This supports a retention-first strategy.\n",
    "- **CLV Distribution:** Customer value is unevenly distributed; a subset of customers contributes a large share of revenue.\n",
    "- **Top Customers:** Top 10 customers are high‑value and suitable for VIP/loyalty targeting.\n",
    "- **Monthly Trend:** The 3‑month moving average smooths volatility and reveals overall growth/seasonality patterns.\n",
    "- **Weekday Pattern:** Highlights best days for staffing and promotions.\n",
    "- **Holiday Effect:** Compares holiday vs non‑holiday revenue to plan campaigns and stock accordingly.\n"
   ]
  },
  {
   "cell_type": "markdown",
   "id": "551c053e-7f15-4113-aa22-ca3f15a070c7",
   "metadata": {},
   "source": [
    "# Executive Summary & Key Insights\n",
    "\n",
    "## Project Overview\n",
    "This project demonstrates my ability to clean, analyze, and visualize **retail sales data** using Python.  \n",
    "I worked with multiple datasets (**Sales, Products, Customers, Stores, Holidays**), performed **data inspection and cleaning**, created enriched datasets, and produced actionable business insights.  \n",
    "\n",
    "**Deliverables:**\n",
    "- A fully documented Jupyter Notebook with code, explanations, and visuals  \n",
    "- Exported charts (PNG) in the `output/` folder   \n",
    "\n",
    "## Key Business Insights\n",
    "\n",
    "### 1. Revenue Drivers  \n",
    "- Repeat customers generate the majority of revenue → **retention is more profitable than acquisition**.  \n",
    "- New customers still contribute significantly → balance acquisition campaigns with loyalty initiatives.  \n",
    "\n",
    "### 2. Customer Lifetime Value (CLV)  \n",
    "- CLV distribution is **highly skewed**.  \n",
    "- Top 10 customers account for a disproportionately high share of sales → focus on **VIP programs, loyalty rewards, or premium bundles**.  \n",
    "\n",
    "### 3. Sales Trends Over Time  \n",
    "- Monthly revenue shows **seasonality and upward growth** (3-month moving average).  \n",
    "- Insights can guide **inventory planning** and **staffing during peak demand**.  \n",
    "\n",
    "### 4. Weekday Performance  \n",
    "- Sales are not evenly distributed across weekdays.  \n",
    "- Optimizing **promotions, restocking, and campaigns** on high-performing days could maximize returns.  \n",
    "\n",
    "### 5. Holiday Impact  \n",
    "- Revenue on **holidays vs non-holidays** shows significant differences.  \n",
    "- Leverage this with **holiday-specific campaigns, discounts, or bundles**.  "
   ]
  },
  {
   "cell_type": "markdown",
   "id": "201e768f-de22-4ee3-ad14-c0fed3ae0b34",
   "metadata": {},
   "source": [
    "# Forecast • Inventory • Promotions"
   ]
  },
  {
   "cell_type": "markdown",
   "id": "d54955a1-e2c7-4092-a6fe-2b597ba364fc",
   "metadata": {},
   "source": [
    "### Daily / Weekly / Monthly Sales tables (for reporting)"
   ]
  },
  {
   "cell_type": "code",
   "execution_count": 34,
   "id": "58b1a106-52da-4d1c-aa5e-81e10ca76226",
   "metadata": {},
   "outputs": [
    {
     "name": "stdout",
     "output_type": "stream",
     "text": [
      "=== Daily (last 30 days) ===\n"
     ]
    },
    {
     "data": {
      "text/html": [
       "<div>\n",
       "<style scoped>\n",
       "    .dataframe tbody tr th:only-of-type {\n",
       "        vertical-align: middle;\n",
       "    }\n",
       "\n",
       "    .dataframe tbody tr th {\n",
       "        vertical-align: top;\n",
       "    }\n",
       "\n",
       "    .dataframe thead th {\n",
       "        text-align: right;\n",
       "    }\n",
       "</style>\n",
       "<table border=\"1\" class=\"dataframe\">\n",
       "  <thead>\n",
       "    <tr style=\"text-align: right;\">\n",
       "      <th></th>\n",
       "      <th>net_revenue</th>\n",
       "      <th>qty</th>\n",
       "    </tr>\n",
       "    <tr>\n",
       "      <th>order_date</th>\n",
       "      <th></th>\n",
       "      <th></th>\n",
       "    </tr>\n",
       "  </thead>\n",
       "  <tbody>\n",
       "    <tr>\n",
       "      <th>2025-11-28</th>\n",
       "      <td>0.0000</td>\n",
       "      <td>0</td>\n",
       "    </tr>\n",
       "    <tr>\n",
       "      <th>2025-11-29</th>\n",
       "      <td>0.0000</td>\n",
       "      <td>0</td>\n",
       "    </tr>\n",
       "    <tr>\n",
       "      <th>2025-11-30</th>\n",
       "      <td>0.0000</td>\n",
       "      <td>0</td>\n",
       "    </tr>\n",
       "    <tr>\n",
       "      <th>2025-12-01</th>\n",
       "      <td>806.0700</td>\n",
       "      <td>15</td>\n",
       "    </tr>\n",
       "    <tr>\n",
       "      <th>2025-12-02</th>\n",
       "      <td>402.7500</td>\n",
       "      <td>9</td>\n",
       "    </tr>\n",
       "    <tr>\n",
       "      <th>2025-12-03</th>\n",
       "      <td>319.9905</td>\n",
       "      <td>7</td>\n",
       "    </tr>\n",
       "    <tr>\n",
       "      <th>2025-12-04</th>\n",
       "      <td>475.3035</td>\n",
       "      <td>9</td>\n",
       "    </tr>\n",
       "    <tr>\n",
       "      <th>2025-12-05</th>\n",
       "      <td>295.9820</td>\n",
       "      <td>7</td>\n",
       "    </tr>\n",
       "    <tr>\n",
       "      <th>2025-12-06</th>\n",
       "      <td>325.6685</td>\n",
       "      <td>6</td>\n",
       "    </tr>\n",
       "    <tr>\n",
       "      <th>2025-12-07</th>\n",
       "      <td>346.0650</td>\n",
       "      <td>9</td>\n",
       "    </tr>\n",
       "  </tbody>\n",
       "</table>\n",
       "</div>"
      ],
      "text/plain": [
       "            net_revenue  qty\n",
       "order_date                  \n",
       "2025-11-28       0.0000    0\n",
       "2025-11-29       0.0000    0\n",
       "2025-11-30       0.0000    0\n",
       "2025-12-01     806.0700   15\n",
       "2025-12-02     402.7500    9\n",
       "2025-12-03     319.9905    7\n",
       "2025-12-04     475.3035    9\n",
       "2025-12-05     295.9820    7\n",
       "2025-12-06     325.6685    6\n",
       "2025-12-07     346.0650    9"
      ]
     },
     "metadata": {},
     "output_type": "display_data"
    },
    {
     "name": "stdout",
     "output_type": "stream",
     "text": [
      "\n",
      "=== Weekly (last 12 weeks) ===\n"
     ]
    },
    {
     "data": {
      "text/html": [
       "<div>\n",
       "<style scoped>\n",
       "    .dataframe tbody tr th:only-of-type {\n",
       "        vertical-align: middle;\n",
       "    }\n",
       "\n",
       "    .dataframe tbody tr th {\n",
       "        vertical-align: top;\n",
       "    }\n",
       "\n",
       "    .dataframe thead th {\n",
       "        text-align: right;\n",
       "    }\n",
       "</style>\n",
       "<table border=\"1\" class=\"dataframe\">\n",
       "  <thead>\n",
       "    <tr style=\"text-align: right;\">\n",
       "      <th></th>\n",
       "      <th>net_revenue</th>\n",
       "      <th>qty</th>\n",
       "    </tr>\n",
       "    <tr>\n",
       "      <th>order_date</th>\n",
       "      <th></th>\n",
       "      <th></th>\n",
       "    </tr>\n",
       "  </thead>\n",
       "  <tbody>\n",
       "    <tr>\n",
       "      <th>2025-11-10</th>\n",
       "      <td>1054.9950</td>\n",
       "      <td>23</td>\n",
       "    </tr>\n",
       "    <tr>\n",
       "      <th>2025-11-17</th>\n",
       "      <td>0.0000</td>\n",
       "      <td>0</td>\n",
       "    </tr>\n",
       "    <tr>\n",
       "      <th>2025-11-24</th>\n",
       "      <td>0.0000</td>\n",
       "      <td>0</td>\n",
       "    </tr>\n",
       "    <tr>\n",
       "      <th>2025-12-01</th>\n",
       "      <td>806.0700</td>\n",
       "      <td>15</td>\n",
       "    </tr>\n",
       "    <tr>\n",
       "      <th>2025-12-08</th>\n",
       "      <td>2165.7595</td>\n",
       "      <td>47</td>\n",
       "    </tr>\n",
       "  </tbody>\n",
       "</table>\n",
       "</div>"
      ],
      "text/plain": [
       "            net_revenue  qty\n",
       "order_date                  \n",
       "2025-11-10    1054.9950   23\n",
       "2025-11-17       0.0000    0\n",
       "2025-11-24       0.0000    0\n",
       "2025-12-01     806.0700   15\n",
       "2025-12-08    2165.7595   47"
      ]
     },
     "metadata": {},
     "output_type": "display_data"
    },
    {
     "name": "stdout",
     "output_type": "stream",
     "text": [
      "\n",
      "=== Monthly (full range) ===\n"
     ]
    },
    {
     "data": {
      "text/html": [
       "<div>\n",
       "<style scoped>\n",
       "    .dataframe tbody tr th:only-of-type {\n",
       "        vertical-align: middle;\n",
       "    }\n",
       "\n",
       "    .dataframe tbody tr th {\n",
       "        vertical-align: top;\n",
       "    }\n",
       "\n",
       "    .dataframe thead th {\n",
       "        text-align: right;\n",
       "    }\n",
       "</style>\n",
       "<table border=\"1\" class=\"dataframe\">\n",
       "  <thead>\n",
       "    <tr style=\"text-align: right;\">\n",
       "      <th></th>\n",
       "      <th>net_revenue</th>\n",
       "      <th>qty</th>\n",
       "    </tr>\n",
       "    <tr>\n",
       "      <th>order_date</th>\n",
       "      <th></th>\n",
       "      <th></th>\n",
       "    </tr>\n",
       "  </thead>\n",
       "  <tbody>\n",
       "    <tr>\n",
       "      <th>2025-07-01</th>\n",
       "      <td>187587.9075</td>\n",
       "      <td>3853</td>\n",
       "    </tr>\n",
       "    <tr>\n",
       "      <th>2025-08-01</th>\n",
       "      <td>2817.8770</td>\n",
       "      <td>56</td>\n",
       "    </tr>\n",
       "    <tr>\n",
       "      <th>2025-09-01</th>\n",
       "      <td>2927.2070</td>\n",
       "      <td>58</td>\n",
       "    </tr>\n",
       "    <tr>\n",
       "      <th>2025-10-01</th>\n",
       "      <td>3313.2350</td>\n",
       "      <td>70</td>\n",
       "    </tr>\n",
       "    <tr>\n",
       "      <th>2025-11-01</th>\n",
       "      <td>2204.9380</td>\n",
       "      <td>47</td>\n",
       "    </tr>\n",
       "    <tr>\n",
       "      <th>2025-12-01</th>\n",
       "      <td>2971.8295</td>\n",
       "      <td>62</td>\n",
       "    </tr>\n",
       "  </tbody>\n",
       "</table>\n",
       "</div>"
      ],
      "text/plain": [
       "            net_revenue   qty\n",
       "order_date                   \n",
       "2025-07-01  187587.9075  3853\n",
       "2025-08-01    2817.8770    56\n",
       "2025-09-01    2927.2070    58\n",
       "2025-10-01    3313.2350    70\n",
       "2025-11-01    2204.9380    47\n",
       "2025-12-01    2971.8295    62"
      ]
     },
     "metadata": {},
     "output_type": "display_data"
    },
    {
     "name": "stdout",
     "output_type": "stream",
     "text": [
      "\n",
      "=== Category Mix (last full month) ===\n"
     ]
    },
    {
     "data": {
      "text/html": [
       "<div>\n",
       "<style scoped>\n",
       "    .dataframe tbody tr th:only-of-type {\n",
       "        vertical-align: middle;\n",
       "    }\n",
       "\n",
       "    .dataframe tbody tr th {\n",
       "        vertical-align: top;\n",
       "    }\n",
       "\n",
       "    .dataframe thead th {\n",
       "        text-align: right;\n",
       "    }\n",
       "</style>\n",
       "<table border=\"1\" class=\"dataframe\">\n",
       "  <thead>\n",
       "    <tr style=\"text-align: right;\">\n",
       "      <th></th>\n",
       "      <th>net_revenue</th>\n",
       "      <th>qty</th>\n",
       "    </tr>\n",
       "    <tr>\n",
       "      <th>category</th>\n",
       "      <th></th>\n",
       "      <th></th>\n",
       "    </tr>\n",
       "  </thead>\n",
       "  <tbody>\n",
       "    <tr>\n",
       "      <th>Skincare</th>\n",
       "      <td>1546.970</td>\n",
       "      <td>33</td>\n",
       "    </tr>\n",
       "    <tr>\n",
       "      <th>Haircare</th>\n",
       "      <td>360.734</td>\n",
       "      <td>8</td>\n",
       "    </tr>\n",
       "    <tr>\n",
       "      <th>Grooming</th>\n",
       "      <td>205.774</td>\n",
       "      <td>4</td>\n",
       "    </tr>\n",
       "    <tr>\n",
       "      <th>Bodycare</th>\n",
       "      <td>91.460</td>\n",
       "      <td>2</td>\n",
       "    </tr>\n",
       "  </tbody>\n",
       "</table>\n",
       "</div>"
      ],
      "text/plain": [
       "          net_revenue  qty\n",
       "category                  \n",
       "Skincare     1546.970   33\n",
       "Haircare      360.734    8\n",
       "Grooming      205.774    4\n",
       "Bodycare       91.460    2"
      ]
     },
     "metadata": {},
     "output_type": "display_data"
    },
    {
     "name": "stdout",
     "output_type": "stream",
     "text": [
      "\n",
      "Saved to ./output_planning/: daily_sales.csv, weekly_sales.csv, monthly_sales.csv, category_last_month.csv\n"
     ]
    }
   ],
   "source": [
    "# 7.1) Daily / Weekly / Monthly Sales Tables\n",
    "\n",
    "import pandas as pd\n",
    "import os\n",
    "\n",
    "os.makedirs(\"output_planning\", exist_ok=True)\n",
    "\n",
    "# Safety: make sure order_date is datetime\n",
    "sales_enriched[\"order_date\"] = pd.to_datetime(sales_enriched[\"order_date\"], errors=\"coerce\")\n",
    "\n",
    "# --- DAILY (last 30 days) ---\n",
    "daily_sales = (sales_enriched\n",
    "               .set_index(\"order_date\")\n",
    "               .groupby(pd.Grouper(freq=\"D\"))[[\"net_revenue\",\"qty\"]]\n",
    "               .sum()\n",
    "               .tail(30))\n",
    "\n",
    "# --- WEEKLY (last 12 weeks; weeks start Monday) ---\n",
    "weekly_sales = (sales_enriched\n",
    "                .set_index(\"order_date\")\n",
    "                .groupby(pd.Grouper(freq=\"W-MON\"))[[\"net_revenue\",\"qty\"]]\n",
    "                .sum()\n",
    "                .tail(12))\n",
    "\n",
    "# --- MONTHLY (full range; month start) ---\n",
    "monthly_sales = (sales_enriched\n",
    "                 .set_index(\"order_date\")\n",
    "                 .groupby(pd.Grouper(freq=\"MS\"))[[\"net_revenue\",\"qty\"]]\n",
    "                 .sum())\n",
    "\n",
    "# --- CATEGORY MIX for the LAST FULL MONTH ---\n",
    "max_date = sales_enriched[\"order_date\"].max()\n",
    "\n",
    "# current month start (first day of the month that max_date is in)\n",
    "current_month_start = max_date.to_period(\"M\").to_timestamp()         # e.g., 2025-08-01 00:00:00\n",
    "\n",
    "# last full month start (one month before current month)\n",
    "last_month_start = (max_date.to_period(\"M\") - 1).to_timestamp()      # e.g., 2025-07-01 00:00:00\n",
    "\n",
    "# Filter: last full month = [last_month_start, current_month_start)\n",
    "mask_last_month = (sales_enriched[\"order_date\"] >= last_month_start) & \\\n",
    "                  (sales_enriched[\"order_date\"] <  current_month_start)\n",
    "\n",
    "category_last_month = (sales_enriched.loc[mask_last_month]\n",
    "                       .groupby(\"category\")[[\"net_revenue\",\"qty\"]]\n",
    "                       .sum()\n",
    "                       .sort_values(\"net_revenue\", ascending=False))\n",
    "\n",
    "# Quick previews\n",
    "print(\"=== Daily (last 30 days) ===\")\n",
    "display(daily_sales.tail(10))\n",
    "print(\"\\n=== Weekly (last 12 weeks) ===\")\n",
    "display(weekly_sales.tail(5))\n",
    "print(\"\\n=== Monthly (full range) ===\")\n",
    "display(monthly_sales.tail(6))\n",
    "print(\"\\n=== Category Mix (last full month) ===\")\n",
    "display(category_last_month)\n",
    "\n",
    "# Save CSVs for reporting / Excel step\n",
    "daily_sales.to_csv(\"output_planning/daily_sales.csv\")\n",
    "weekly_sales.to_csv(\"output_planning/weekly_sales.csv\")\n",
    "monthly_sales.to_csv(\"output_planning/monthly_sales.csv\")\n",
    "category_last_month.to_csv(\"output_planning/category_last_month.csv\")\n",
    "\n",
    "print(\"\\nSaved to ./output_planning/: daily_sales.csv, weekly_sales.csv, monthly_sales.csv, category_last_month.csv\")"
   ]
  },
  {
   "cell_type": "markdown",
   "id": "97dafe64-ac68-477b-8741-f6cb6aab3ef3",
   "metadata": {},
   "source": [
    "Daily / Weekly / Monthly: supports the role’s requirement to prepare and distribute recurring sales reports.\n",
    "Category mix (last full month): shows what’s driving sales most recently, useful for S&OP and marketing."
   ]
  },
  {
   "cell_type": "markdown",
   "id": "499860d5-0065-421c-9169-87082255ab45",
   "metadata": {},
   "source": [
    "### Inventory Status with flags (stock, OOS, low-stock)"
   ]
  },
  {
   "cell_type": "code",
   "execution_count": 35,
   "id": "ac1a8181-d0ec-4207-b5d5-d127c470ae31",
   "metadata": {},
   "outputs": [
    {
     "data": {
      "text/html": [
       "<div>\n",
       "<style scoped>\n",
       "    .dataframe tbody tr th:only-of-type {\n",
       "        vertical-align: middle;\n",
       "    }\n",
       "\n",
       "    .dataframe tbody tr th {\n",
       "        vertical-align: top;\n",
       "    }\n",
       "\n",
       "    .dataframe thead th {\n",
       "        text-align: right;\n",
       "    }\n",
       "</style>\n",
       "<table border=\"1\" class=\"dataframe\">\n",
       "  <thead>\n",
       "    <tr style=\"text-align: right;\">\n",
       "      <th></th>\n",
       "      <th>product_id</th>\n",
       "      <th>product_name</th>\n",
       "      <th>category</th>\n",
       "      <th>brand</th>\n",
       "      <th>opening_units</th>\n",
       "      <th>cum_sold_to_date</th>\n",
       "      <th>cum_inbound_to_date</th>\n",
       "      <th>soh_units</th>\n",
       "      <th>low_stock_flag</th>\n",
       "      <th>oos_flag</th>\n",
       "    </tr>\n",
       "  </thead>\n",
       "  <tbody>\n",
       "    <tr>\n",
       "      <th>4</th>\n",
       "      <td>1005</td>\n",
       "      <td>Hyaluronic Acid 2% 30ml</td>\n",
       "      <td>Skincare</td>\n",
       "      <td>Dermaglow</td>\n",
       "      <td>251</td>\n",
       "      <td>3287</td>\n",
       "      <td>0.0</td>\n",
       "      <td>-3036.0</td>\n",
       "      <td>1</td>\n",
       "      <td>1</td>\n",
       "    </tr>\n",
       "    <tr>\n",
       "      <th>22</th>\n",
       "      <td>1023</td>\n",
       "      <td>AHA Serum 30ml</td>\n",
       "      <td>Skincare</td>\n",
       "      <td>Dermaglow</td>\n",
       "      <td>226</td>\n",
       "      <td>3210</td>\n",
       "      <td>0.0</td>\n",
       "      <td>-2984.0</td>\n",
       "      <td>1</td>\n",
       "      <td>1</td>\n",
       "    </tr>\n",
       "    <tr>\n",
       "      <th>2</th>\n",
       "      <td>1003</td>\n",
       "      <td>Retinol Cream 50ml</td>\n",
       "      <td>Skincare</td>\n",
       "      <td>Dermaglow</td>\n",
       "      <td>223</td>\n",
       "      <td>3148</td>\n",
       "      <td>0.0</td>\n",
       "      <td>-2925.0</td>\n",
       "      <td>1</td>\n",
       "      <td>1</td>\n",
       "    </tr>\n",
       "    <tr>\n",
       "      <th>20</th>\n",
       "      <td>1021</td>\n",
       "      <td>Exfoliating Toner 200ml</td>\n",
       "      <td>Skincare</td>\n",
       "      <td>Dermaglow</td>\n",
       "      <td>259</td>\n",
       "      <td>3182</td>\n",
       "      <td>0.0</td>\n",
       "      <td>-2923.0</td>\n",
       "      <td>1</td>\n",
       "      <td>1</td>\n",
       "    </tr>\n",
       "    <tr>\n",
       "      <th>18</th>\n",
       "      <td>1019</td>\n",
       "      <td>Beard Oil 30ml</td>\n",
       "      <td>Grooming</td>\n",
       "      <td>Groompro</td>\n",
       "      <td>443</td>\n",
       "      <td>3350</td>\n",
       "      <td>0.0</td>\n",
       "      <td>-2907.0</td>\n",
       "      <td>1</td>\n",
       "      <td>1</td>\n",
       "    </tr>\n",
       "    <tr>\n",
       "      <th>10</th>\n",
       "      <td>1011</td>\n",
       "      <td>Lip Balm 10g</td>\n",
       "      <td>Skincare</td>\n",
       "      <td>Dermaglow</td>\n",
       "      <td>207</td>\n",
       "      <td>3102</td>\n",
       "      <td>0.0</td>\n",
       "      <td>-2895.0</td>\n",
       "      <td>1</td>\n",
       "      <td>1</td>\n",
       "    </tr>\n",
       "    <tr>\n",
       "      <th>14</th>\n",
       "      <td>1015</td>\n",
       "      <td>Hand Cream 50ml</td>\n",
       "      <td>Bodycare</td>\n",
       "      <td>Bodysoft</td>\n",
       "      <td>396</td>\n",
       "      <td>3216</td>\n",
       "      <td>0.0</td>\n",
       "      <td>-2820.0</td>\n",
       "      <td>1</td>\n",
       "      <td>1</td>\n",
       "    </tr>\n",
       "    <tr>\n",
       "      <th>11</th>\n",
       "      <td>1012</td>\n",
       "      <td>Clay Mask 75ml</td>\n",
       "      <td>Skincare</td>\n",
       "      <td>Pureclean</td>\n",
       "      <td>370</td>\n",
       "      <td>3142</td>\n",
       "      <td>0.0</td>\n",
       "      <td>-2772.0</td>\n",
       "      <td>1</td>\n",
       "      <td>1</td>\n",
       "    </tr>\n",
       "    <tr>\n",
       "      <th>23</th>\n",
       "      <td>1024</td>\n",
       "      <td>Moisturizer Gel 50ml</td>\n",
       "      <td>Skincare</td>\n",
       "      <td>Dermaglow</td>\n",
       "      <td>446</td>\n",
       "      <td>3204</td>\n",
       "      <td>0.0</td>\n",
       "      <td>-2758.0</td>\n",
       "      <td>1</td>\n",
       "      <td>1</td>\n",
       "    </tr>\n",
       "    <tr>\n",
       "      <th>25</th>\n",
       "      <td>1026</td>\n",
       "      <td>Ceramide Moisturizer 50ml</td>\n",
       "      <td>Skincare</td>\n",
       "      <td>Dermaglow</td>\n",
       "      <td>511</td>\n",
       "      <td>3249</td>\n",
       "      <td>0.0</td>\n",
       "      <td>-2738.0</td>\n",
       "      <td>1</td>\n",
       "      <td>1</td>\n",
       "    </tr>\n",
       "    <tr>\n",
       "      <th>1</th>\n",
       "      <td>1002</td>\n",
       "      <td>Vitamin C Serum 30ml</td>\n",
       "      <td>Skincare</td>\n",
       "      <td>Dermaglow</td>\n",
       "      <td>442</td>\n",
       "      <td>3173</td>\n",
       "      <td>0.0</td>\n",
       "      <td>-2731.0</td>\n",
       "      <td>1</td>\n",
       "      <td>1</td>\n",
       "    </tr>\n",
       "    <tr>\n",
       "      <th>3</th>\n",
       "      <td>1004</td>\n",
       "      <td>Sunscreen SPF50 50ml</td>\n",
       "      <td>Skincare</td>\n",
       "      <td>Sunguard</td>\n",
       "      <td>575</td>\n",
       "      <td>3265</td>\n",
       "      <td>0.0</td>\n",
       "      <td>-2690.0</td>\n",
       "      <td>1</td>\n",
       "      <td>1</td>\n",
       "    </tr>\n",
       "    <tr>\n",
       "      <th>13</th>\n",
       "      <td>1014</td>\n",
       "      <td>Body Lotion 250ml</td>\n",
       "      <td>Bodycare</td>\n",
       "      <td>Bodysoft</td>\n",
       "      <td>619</td>\n",
       "      <td>3297</td>\n",
       "      <td>0.0</td>\n",
       "      <td>-2678.0</td>\n",
       "      <td>1</td>\n",
       "      <td>1</td>\n",
       "    </tr>\n",
       "    <tr>\n",
       "      <th>24</th>\n",
       "      <td>1025</td>\n",
       "      <td>Night Repair Cream 50ml</td>\n",
       "      <td>Skincare</td>\n",
       "      <td>Dermaglow</td>\n",
       "      <td>559</td>\n",
       "      <td>3235</td>\n",
       "      <td>0.0</td>\n",
       "      <td>-2676.0</td>\n",
       "      <td>1</td>\n",
       "      <td>1</td>\n",
       "    </tr>\n",
       "    <tr>\n",
       "      <th>19</th>\n",
       "      <td>1020</td>\n",
       "      <td>Aftershave 100ml</td>\n",
       "      <td>Grooming</td>\n",
       "      <td>Groompro</td>\n",
       "      <td>449</td>\n",
       "      <td>3121</td>\n",
       "      <td>0.0</td>\n",
       "      <td>-2672.0</td>\n",
       "      <td>1</td>\n",
       "      <td>1</td>\n",
       "    </tr>\n",
       "  </tbody>\n",
       "</table>\n",
       "</div>"
      ],
      "text/plain": [
       "    product_id               product_name  category      brand  opening_units  \\\n",
       "4         1005    Hyaluronic Acid 2% 30ml  Skincare  Dermaglow            251   \n",
       "22        1023             AHA Serum 30ml  Skincare  Dermaglow            226   \n",
       "2         1003         Retinol Cream 50ml  Skincare  Dermaglow            223   \n",
       "20        1021    Exfoliating Toner 200ml  Skincare  Dermaglow            259   \n",
       "18        1019             Beard Oil 30ml  Grooming   Groompro            443   \n",
       "10        1011               Lip Balm 10g  Skincare  Dermaglow            207   \n",
       "14        1015            Hand Cream 50ml  Bodycare   Bodysoft            396   \n",
       "11        1012             Clay Mask 75ml  Skincare  Pureclean            370   \n",
       "23        1024       Moisturizer Gel 50ml  Skincare  Dermaglow            446   \n",
       "25        1026  Ceramide Moisturizer 50ml  Skincare  Dermaglow            511   \n",
       "1         1002       Vitamin C Serum 30ml  Skincare  Dermaglow            442   \n",
       "3         1004       Sunscreen SPF50 50ml  Skincare   Sunguard            575   \n",
       "13        1014          Body Lotion 250ml  Bodycare   Bodysoft            619   \n",
       "24        1025    Night Repair Cream 50ml  Skincare  Dermaglow            559   \n",
       "19        1020           Aftershave 100ml  Grooming   Groompro            449   \n",
       "\n",
       "    cum_sold_to_date  cum_inbound_to_date  soh_units  low_stock_flag  oos_flag  \n",
       "4               3287                  0.0    -3036.0               1         1  \n",
       "22              3210                  0.0    -2984.0               1         1  \n",
       "2               3148                  0.0    -2925.0               1         1  \n",
       "20              3182                  0.0    -2923.0               1         1  \n",
       "18              3350                  0.0    -2907.0               1         1  \n",
       "10              3102                  0.0    -2895.0               1         1  \n",
       "14              3216                  0.0    -2820.0               1         1  \n",
       "11              3142                  0.0    -2772.0               1         1  \n",
       "23              3204                  0.0    -2758.0               1         1  \n",
       "25              3249                  0.0    -2738.0               1         1  \n",
       "1               3173                  0.0    -2731.0               1         1  \n",
       "3               3265                  0.0    -2690.0               1         1  \n",
       "13              3297                  0.0    -2678.0               1         1  \n",
       "24              3235                  0.0    -2676.0               1         1  \n",
       "19              3121                  0.0    -2672.0               1         1  "
      ]
     },
     "metadata": {},
     "output_type": "display_data"
    },
    {
     "name": "stdout",
     "output_type": "stream",
     "text": [
      "Saved: output_planning/inventory_status.csv\n"
     ]
    }
   ],
   "source": [
    "# 7.2) Inventory Status (SOH) with Low-Stock / OOS Flags\n",
    "\n",
    "import pandas as pd\n",
    "import numpy as np\n",
    "import os\n",
    "\n",
    "os.makedirs(\"output_planning\", exist_ok=True)\n",
    "\n",
    "# --- Safety: order_date is datetime\n",
    "sales_enriched[\"order_date\"] = pd.to_datetime(sales_enriched[\"order_date\"], errors=\"coerce\")\n",
    "\n",
    "# --- 0) Tiny templates if inventory inputs are missing\n",
    "# Opening inventory per SKU\n",
    "if \"inv_open\" not in globals():\n",
    "    inv_open = (\n",
    "        products_clean[[\"product_id\",\"product_name\",\"category\",\"brand\"]]\n",
    "        .assign(opening_units=np.random.randint(200, 800, size=len(products_clean)))\n",
    "    )\n",
    "\n",
    "# Inbound POs (ETA and units)\n",
    "if \"inbound_pos\" not in globals():\n",
    "    inbound_pos = pd.DataFrame({\n",
    "        \"po_id\": [f\"PO{i}\" for i in range(1, 11)],\n",
    "        \"product_id\": np.random.choice(products_clean[\"product_id\"], size=10, replace=True),\n",
    "        \"eta\": pd.to_datetime(sales_enriched[\"order_date\"].max()) + pd.to_timedelta(np.random.randint(0, 30, size=10), unit=\"D\"),\n",
    "        \"inbound_units\": np.random.randint(100, 500, size=10),\n",
    "    })\n",
    "\n",
    "# --- 1) Daily units sold per SKU\n",
    "sku_daily_units = (\n",
    "    sales_enriched.groupby([\"product_id\",\"order_date\"])[\"qty\"]\n",
    "    .sum()\n",
    "    .reset_index()\n",
    "    .sort_values([\"product_id\",\"order_date\"])\n",
    ")\n",
    "\n",
    "# Cumulative sold\n",
    "sku_daily_units[\"cum_sold\"] = sku_daily_units.groupby(\"product_id\")[\"qty\"].cumsum()\n",
    "\n",
    "# --- 2) Inbound daily (collapse POs onto their ETA dates)\n",
    "inbound_pos[\"eta\"] = pd.to_datetime(inbound_pos[\"eta\"], errors=\"coerce\")\n",
    "inbound_daily = inbound_pos.rename(columns={\"eta\":\"order_date\"})[[\"product_id\",\"order_date\",\"inbound_units\"]]\n",
    "inbound_daily = inbound_daily.sort_values([\"product_id\",\"order_date\"])\n",
    "\n",
    "# Cumulative inbound per SKU\n",
    "inbound_daily[\"cum_inbound\"] = inbound_daily.groupby(\"product_id\")[\"inbound_units\"].cumsum()\n",
    "\n",
    "# --- 3) Build Inventory Status as of latest sales date\n",
    "latest_date = sales_enriched[\"order_date\"].max()\n",
    "\n",
    "# latest cumulative sold per SKU up to latest_date\n",
    "last_cum_sold = (\n",
    "    sku_daily_units[sku_daily_units[\"order_date\"] <= latest_date]\n",
    "    .groupby(\"product_id\").tail(1)[[\"product_id\",\"cum_sold\"]]\n",
    "    .rename(columns={\"cum_sold\":\"cum_sold_to_date\"})\n",
    ")\n",
    "\n",
    "# latest cumulative inbound per SKU up to latest_date\n",
    "last_cum_in = (\n",
    "    inbound_daily[inbound_daily[\"order_date\"] <= latest_date]\n",
    "    .groupby(\"product_id\").tail(1)[[\"product_id\",\"cum_inbound\"]]\n",
    "    .rename(columns={\"cum_inbound\":\"cum_inbound_to_date\"})\n",
    ")\n",
    "\n",
    "# Join pieces\n",
    "inv_status = (\n",
    "    products_clean[[\"product_id\",\"product_name\",\"category\",\"brand\"]]\n",
    "    .merge(inv_open[[\"product_id\",\"opening_units\"]], on=\"product_id\", how=\"left\")\n",
    "    .merge(last_cum_sold, on=\"product_id\", how=\"left\")\n",
    "    .merge(last_cum_in, on=\"product_id\", how=\"left\")\n",
    ")\n",
    "\n",
    "# Fill missing with 0\n",
    "inv_status[[\"opening_units\",\"cum_sold_to_date\",\"cum_inbound_to_date\"]] = \\\n",
    "    inv_status[[\"opening_units\",\"cum_sold_to_date\",\"cum_inbound_to_date\"]].fillna(0)\n",
    "\n",
    "# Compute Stock On Hand (SOH)\n",
    "inv_status[\"soh_units\"] = inv_status[\"opening_units\"] + inv_status[\"cum_inbound_to_date\"] - inv_status[\"cum_sold_to_date\"]\n",
    "\n",
    "# Flags (tune thresholds as needed)\n",
    "LOW_STOCK_THRESHOLD = 50\n",
    "inv_status[\"low_stock_flag\"] = (inv_status[\"soh_units\"] <= LOW_STOCK_THRESHOLD).astype(int)\n",
    "inv_status[\"oos_flag\"]       = (inv_status[\"soh_units\"] <= 0).astype(int)\n",
    "\n",
    "# Sort by lowest stock first for quick attention list\n",
    "inv_status = inv_status.sort_values([\"soh_units\",\"product_id\"])\n",
    "\n",
    "# Preview and save\n",
    "display(inv_status.head(15))\n",
    "inv_status.to_csv(\"output_planning/inventory_status.csv\", index=False)\n",
    "print(\"Saved: output_planning/inventory_status.csv\")"
   ]
  },
  {
   "cell_type": "markdown",
   "id": "9f2815a1-51a0-4e3f-b4c2-69177ce4bb62",
   "metadata": {},
   "source": [
    "Computes Stock On Hand (SOH) per SKU using: Opening + Inbound − Cumulative Sales.\n",
    "Flags low stock and out‑of‑stock items so planners can act quickly.\n",
    "Mirrors daily inventory reporting in eCom planning."
   ]
  },
  {
   "cell_type": "markdown",
   "id": "1fec670c-378d-4953-aa80-802dd7233fc8",
   "metadata": {},
   "source": [
    "### Forecast vs Actual + Accuracy (MAPE, Bias)"
   ]
  },
  {
   "cell_type": "code",
   "execution_count": 37,
   "id": "23d097e2-66f8-4a14-94db-0e44d77005a2",
   "metadata": {},
   "outputs": [
    {
     "data": {
      "text/html": [
       "<div>\n",
       "<style scoped>\n",
       "    .dataframe tbody tr th:only-of-type {\n",
       "        vertical-align: middle;\n",
       "    }\n",
       "\n",
       "    .dataframe tbody tr th {\n",
       "        vertical-align: top;\n",
       "    }\n",
       "\n",
       "    .dataframe thead th {\n",
       "        text-align: right;\n",
       "    }\n",
       "</style>\n",
       "<table border=\"1\" class=\"dataframe\">\n",
       "  <thead>\n",
       "    <tr style=\"text-align: right;\">\n",
       "      <th></th>\n",
       "      <th>product_id</th>\n",
       "      <th>forecast_qty</th>\n",
       "      <th>month</th>\n",
       "      <th>product_name</th>\n",
       "      <th>category</th>\n",
       "      <th>brand</th>\n",
       "      <th>actual_qty</th>\n",
       "      <th>error</th>\n",
       "      <th>abs_perc_error</th>\n",
       "    </tr>\n",
       "  </thead>\n",
       "  <tbody>\n",
       "    <tr>\n",
       "      <th>7</th>\n",
       "      <td>1008</td>\n",
       "      <td>48.333333</td>\n",
       "      <td>2025-12</td>\n",
       "      <td>Foaming Cleanser 200ml</td>\n",
       "      <td>Skincare</td>\n",
       "      <td>Pureclean</td>\n",
       "      <td>2.0</td>\n",
       "      <td>46.333333</td>\n",
       "      <td>2316.666667</td>\n",
       "    </tr>\n",
       "    <tr>\n",
       "      <th>15</th>\n",
       "      <td>1016</td>\n",
       "      <td>4.333333</td>\n",
       "      <td>2025-12</td>\n",
       "      <td>Shampoo 300ml</td>\n",
       "      <td>Haircare</td>\n",
       "      <td>Hairlux</td>\n",
       "      <td>1.0</td>\n",
       "      <td>3.333333</td>\n",
       "      <td>333.333333</td>\n",
       "    </tr>\n",
       "    <tr>\n",
       "      <th>4</th>\n",
       "      <td>1005</td>\n",
       "      <td>4.000000</td>\n",
       "      <td>2025-12</td>\n",
       "      <td>Hyaluronic Acid 2% 30ml</td>\n",
       "      <td>Skincare</td>\n",
       "      <td>Dermaglow</td>\n",
       "      <td>1.0</td>\n",
       "      <td>3.000000</td>\n",
       "      <td>300.000000</td>\n",
       "    </tr>\n",
       "    <tr>\n",
       "      <th>9</th>\n",
       "      <td>1010</td>\n",
       "      <td>2.333333</td>\n",
       "      <td>2025-12</td>\n",
       "      <td>Eye Cream 15ml</td>\n",
       "      <td>Skincare</td>\n",
       "      <td>Dermaglow</td>\n",
       "      <td>1.0</td>\n",
       "      <td>1.333333</td>\n",
       "      <td>133.333333</td>\n",
       "    </tr>\n",
       "    <tr>\n",
       "      <th>2</th>\n",
       "      <td>1003</td>\n",
       "      <td>2.333333</td>\n",
       "      <td>2025-12</td>\n",
       "      <td>Retinol Cream 50ml</td>\n",
       "      <td>Skincare</td>\n",
       "      <td>Dermaglow</td>\n",
       "      <td>1.0</td>\n",
       "      <td>1.333333</td>\n",
       "      <td>133.333333</td>\n",
       "    </tr>\n",
       "    <tr>\n",
       "      <th>11</th>\n",
       "      <td>1012</td>\n",
       "      <td>4.333333</td>\n",
       "      <td>2025-12</td>\n",
       "      <td>Clay Mask 75ml</td>\n",
       "      <td>Skincare</td>\n",
       "      <td>Pureclean</td>\n",
       "      <td>2.0</td>\n",
       "      <td>2.333333</td>\n",
       "      <td>116.666667</td>\n",
       "    </tr>\n",
       "    <tr>\n",
       "      <th>18</th>\n",
       "      <td>1019</td>\n",
       "      <td>2.000000</td>\n",
       "      <td>2025-12</td>\n",
       "      <td>Beard Oil 30ml</td>\n",
       "      <td>Grooming</td>\n",
       "      <td>Groompro</td>\n",
       "      <td>1.0</td>\n",
       "      <td>1.000000</td>\n",
       "      <td>100.000000</td>\n",
       "    </tr>\n",
       "    <tr>\n",
       "      <th>8</th>\n",
       "      <td>1009</td>\n",
       "      <td>0.666667</td>\n",
       "      <td>2025-12</td>\n",
       "      <td>Micellar Water 400ml</td>\n",
       "      <td>Skincare</td>\n",
       "      <td>Pureclean</td>\n",
       "      <td>2.0</td>\n",
       "      <td>-1.333333</td>\n",
       "      <td>66.666667</td>\n",
       "    </tr>\n",
       "    <tr>\n",
       "      <th>6</th>\n",
       "      <td>1007</td>\n",
       "      <td>4.666667</td>\n",
       "      <td>2025-12</td>\n",
       "      <td>Cleansing Balm 90g</td>\n",
       "      <td>Skincare</td>\n",
       "      <td>Pureclean</td>\n",
       "      <td>3.0</td>\n",
       "      <td>1.666667</td>\n",
       "      <td>55.555556</td>\n",
       "    </tr>\n",
       "    <tr>\n",
       "      <th>24</th>\n",
       "      <td>1025</td>\n",
       "      <td>3.000000</td>\n",
       "      <td>2025-12</td>\n",
       "      <td>Night Repair Cream 50ml</td>\n",
       "      <td>Skincare</td>\n",
       "      <td>Dermaglow</td>\n",
       "      <td>2.0</td>\n",
       "      <td>1.000000</td>\n",
       "      <td>50.000000</td>\n",
       "    </tr>\n",
       "    <tr>\n",
       "      <th>5</th>\n",
       "      <td>1006</td>\n",
       "      <td>3.000000</td>\n",
       "      <td>2025-12</td>\n",
       "      <td>Niacinamide 10% 30ml</td>\n",
       "      <td>Skincare</td>\n",
       "      <td>Dermaglow</td>\n",
       "      <td>2.0</td>\n",
       "      <td>1.000000</td>\n",
       "      <td>50.000000</td>\n",
       "    </tr>\n",
       "    <tr>\n",
       "      <th>17</th>\n",
       "      <td>1018</td>\n",
       "      <td>3.000000</td>\n",
       "      <td>2025-12</td>\n",
       "      <td>Hair Serum 50ml</td>\n",
       "      <td>Haircare</td>\n",
       "      <td>Hairlux</td>\n",
       "      <td>2.0</td>\n",
       "      <td>1.000000</td>\n",
       "      <td>50.000000</td>\n",
       "    </tr>\n",
       "    <tr>\n",
       "      <th>16</th>\n",
       "      <td>1017</td>\n",
       "      <td>3.666667</td>\n",
       "      <td>2025-12</td>\n",
       "      <td>Conditioner 300ml</td>\n",
       "      <td>Haircare</td>\n",
       "      <td>Hairlux</td>\n",
       "      <td>7.0</td>\n",
       "      <td>-3.333333</td>\n",
       "      <td>47.619048</td>\n",
       "    </tr>\n",
       "    <tr>\n",
       "      <th>12</th>\n",
       "      <td>1013</td>\n",
       "      <td>2.666667</td>\n",
       "      <td>2025-12</td>\n",
       "      <td>Face Oil 30ml</td>\n",
       "      <td>Skincare</td>\n",
       "      <td>Dermaglow</td>\n",
       "      <td>4.0</td>\n",
       "      <td>-1.333333</td>\n",
       "      <td>33.333333</td>\n",
       "    </tr>\n",
       "    <tr>\n",
       "      <th>19</th>\n",
       "      <td>1020</td>\n",
       "      <td>3.333333</td>\n",
       "      <td>2025-12</td>\n",
       "      <td>Aftershave 100ml</td>\n",
       "      <td>Grooming</td>\n",
       "      <td>Groompro</td>\n",
       "      <td>5.0</td>\n",
       "      <td>-1.666667</td>\n",
       "      <td>33.333333</td>\n",
       "    </tr>\n",
       "  </tbody>\n",
       "</table>\n",
       "</div>"
      ],
      "text/plain": [
       "    product_id  forecast_qty    month             product_name  category  \\\n",
       "7         1008     48.333333  2025-12   Foaming Cleanser 200ml  Skincare   \n",
       "15        1016      4.333333  2025-12            Shampoo 300ml  Haircare   \n",
       "4         1005      4.000000  2025-12  Hyaluronic Acid 2% 30ml  Skincare   \n",
       "9         1010      2.333333  2025-12           Eye Cream 15ml  Skincare   \n",
       "2         1003      2.333333  2025-12       Retinol Cream 50ml  Skincare   \n",
       "11        1012      4.333333  2025-12           Clay Mask 75ml  Skincare   \n",
       "18        1019      2.000000  2025-12           Beard Oil 30ml  Grooming   \n",
       "8         1009      0.666667  2025-12     Micellar Water 400ml  Skincare   \n",
       "6         1007      4.666667  2025-12       Cleansing Balm 90g  Skincare   \n",
       "24        1025      3.000000  2025-12  Night Repair Cream 50ml  Skincare   \n",
       "5         1006      3.000000  2025-12     Niacinamide 10% 30ml  Skincare   \n",
       "17        1018      3.000000  2025-12          Hair Serum 50ml  Haircare   \n",
       "16        1017      3.666667  2025-12        Conditioner 300ml  Haircare   \n",
       "12        1013      2.666667  2025-12            Face Oil 30ml  Skincare   \n",
       "19        1020      3.333333  2025-12         Aftershave 100ml  Grooming   \n",
       "\n",
       "        brand  actual_qty      error  abs_perc_error  \n",
       "7   Pureclean         2.0  46.333333     2316.666667  \n",
       "15    Hairlux         1.0   3.333333      333.333333  \n",
       "4   Dermaglow         1.0   3.000000      300.000000  \n",
       "9   Dermaglow         1.0   1.333333      133.333333  \n",
       "2   Dermaglow         1.0   1.333333      133.333333  \n",
       "11  Pureclean         2.0   2.333333      116.666667  \n",
       "18   Groompro         1.0   1.000000      100.000000  \n",
       "8   Pureclean         2.0  -1.333333       66.666667  \n",
       "6   Pureclean         3.0   1.666667       55.555556  \n",
       "24  Dermaglow         2.0   1.000000       50.000000  \n",
       "5   Dermaglow         2.0   1.000000       50.000000  \n",
       "17    Hairlux         2.0   1.000000       50.000000  \n",
       "16    Hairlux         7.0  -3.333333       47.619048  \n",
       "12  Dermaglow         4.0  -1.333333       33.333333  \n",
       "19   Groompro         5.0  -1.666667       33.333333  "
      ]
     },
     "metadata": {},
     "output_type": "display_data"
    },
    {
     "name": "stdout",
     "output_type": "stream",
     "text": [
      "MAPE (mean abs % error): 170.86%\n",
      "Bias (positive=over-forecast, negative=under-forecast): 6.40 units\n",
      "Saved: output_planning/forecast_vs_actual.csv\n"
     ]
    }
   ],
   "source": [
    "# 7.3) Forecast vs Actual Sales with MAPE and Bias\n",
    "\n",
    "import numpy as np\n",
    "\n",
    "# --- 0) Create simple forecast template if missing\n",
    "# Example: last 3 months average by SKU as forecast for latest month in data\n",
    "if \"forecast_df\" not in globals():\n",
    "    sales_enriched[\"month\"] = sales_enriched[\"order_date\"].dt.to_period(\"M\")\n",
    "\n",
    "    hist_monthly = (sales_enriched\n",
    "                    .groupby([\"product_id\",\"month\"])[\"qty\"]\n",
    "                    .sum()\n",
    "                    .reset_index())\n",
    "\n",
    "    # Ensure proper ordering so .tail(3) grabs the latest 3 months per SKU\n",
    "    hist_monthly = hist_monthly.sort_values([\"product_id\",\"month\"])\n",
    "\n",
    "    # Grab last 3 months per product_id, then average qty\n",
    "    last3 = hist_monthly.groupby(\"product_id\").tail(3)\n",
    "    forecast_df = (last3\n",
    "                   .groupby(\"product_id\", as_index=False)[\"qty\"]\n",
    "                   .mean()\n",
    "                   .rename(columns={\"qty\":\"forecast_qty\"}))\n",
    "\n",
    "    # Forecast for the latest month in the dataset\n",
    "    latest_month = sales_enriched[\"month\"].max()\n",
    "    forecast_df[\"month\"] = latest_month\n",
    "\n",
    "# --- 1) Actual sales by SKU for the forecast month\n",
    "actual_df = (sales_enriched\n",
    "             .groupby([\"product_id\",\"month\"])[\"qty\"]\n",
    "             .sum()\n",
    "             .reset_index())\n",
    "\n",
    "actual_df = actual_df[actual_df[\"month\"] == forecast_df[\"month\"].iloc[0]]\n",
    "\n",
    "# --- 2) Join forecast with actual\n",
    "fc_compare = (forecast_df\n",
    "              .merge(actual_df, on=[\"product_id\",\"month\"], how=\"left\")\n",
    "              .merge(products_clean[[\"product_id\",\"product_name\",\"category\",\"brand\"]],\n",
    "                     on=\"product_id\", how=\"left\"))\n",
    "\n",
    "fc_compare[\"actual_qty\"] = fc_compare[\"qty\"].fillna(0)\n",
    "fc_compare = fc_compare.drop(columns=[\"qty\"])\n",
    "\n",
    "# --- 3) Error metrics\n",
    "fc_compare[\"error\"] = fc_compare[\"forecast_qty\"] - fc_compare[\"actual_qty\"]\n",
    "fc_compare[\"abs_perc_error\"] = np.where(\n",
    "    fc_compare[\"actual_qty\"] > 0,\n",
    "    (fc_compare[\"error\"]).abs() / fc_compare[\"actual_qty\"] * 100,\n",
    "    np.nan\n",
    ")\n",
    "\n",
    "mape = fc_compare[\"abs_perc_error\"].mean()\n",
    "bias = fc_compare[\"error\"].mean()\n",
    "\n",
    "# --- 4) Save outputs\n",
    "fc_compare = fc_compare.sort_values(\"abs_perc_error\", ascending=False)\n",
    "\n",
    "display(fc_compare.head(15))\n",
    "print(f\"MAPE (mean abs % error): {mape:.2f}%\")\n",
    "print(f\"Bias (positive=over-forecast, negative=under-forecast): {bias:.2f} units\")\n",
    "\n",
    "fc_compare.to_csv(\"output_planning/forecast_vs_actual.csv\", index=False)\n",
    "print(\"Saved: output_planning/forecast_vs_actual.csv\")"
   ]
  },
  {
   "cell_type": "markdown",
   "id": "6d454141-e28c-40a3-9260-d89e8a78193c",
   "metadata": {},
   "source": [
    "Why this matters\n",
    "\n",
    "- Compares forecast vs actual sales per SKU.\n",
    "- Computes MAPE (accuracy %) and Bias (over vs under forecasting), key S&OP metrics.\n",
    "- Identifies SKUs with biggest forecast errors for planners to investigate."
   ]
  },
  {
   "cell_type": "markdown",
   "id": "9cd954ca-a8ca-4c07-af24-392ad0bdce73",
   "metadata": {},
   "source": [
    "### OOS Tracker with ETAs"
   ]
  },
  {
   "cell_type": "code",
   "execution_count": 38,
   "id": "0f270bc0-fb95-41eb-a4aa-8f4d509b54ed",
   "metadata": {},
   "outputs": [
    {
     "name": "stdout",
     "output_type": "stream",
     "text": [
      "=== OOS ===\n"
     ]
    },
    {
     "data": {
      "text/html": [
       "<div>\n",
       "<style scoped>\n",
       "    .dataframe tbody tr th:only-of-type {\n",
       "        vertical-align: middle;\n",
       "    }\n",
       "\n",
       "    .dataframe tbody tr th {\n",
       "        vertical-align: top;\n",
       "    }\n",
       "\n",
       "    .dataframe thead th {\n",
       "        text-align: right;\n",
       "    }\n",
       "</style>\n",
       "<table border=\"1\" class=\"dataframe\">\n",
       "  <thead>\n",
       "    <tr style=\"text-align: right;\">\n",
       "      <th></th>\n",
       "      <th>product_id</th>\n",
       "      <th>product_name</th>\n",
       "      <th>category</th>\n",
       "      <th>brand</th>\n",
       "      <th>soh_units</th>\n",
       "      <th>low_stock_flag</th>\n",
       "      <th>oos_flag</th>\n",
       "      <th>next_eta</th>\n",
       "      <th>next_eta_units</th>\n",
       "      <th>days_to_eta</th>\n",
       "      <th>recommended_action</th>\n",
       "    </tr>\n",
       "  </thead>\n",
       "  <tbody>\n",
       "    <tr>\n",
       "      <th>0</th>\n",
       "      <td>1005</td>\n",
       "      <td>Hyaluronic Acid 2% 30ml</td>\n",
       "      <td>Skincare</td>\n",
       "      <td>Dermaglow</td>\n",
       "      <td>-3036.0</td>\n",
       "      <td>1</td>\n",
       "      <td>1</td>\n",
       "      <td>NaT</td>\n",
       "      <td>NaN</td>\n",
       "      <td>NaN</td>\n",
       "      <td>OOS: Raise urgent PO / consider delist temp / ...</td>\n",
       "    </tr>\n",
       "    <tr>\n",
       "      <th>1</th>\n",
       "      <td>1023</td>\n",
       "      <td>AHA Serum 30ml</td>\n",
       "      <td>Skincare</td>\n",
       "      <td>Dermaglow</td>\n",
       "      <td>-2984.0</td>\n",
       "      <td>1</td>\n",
       "      <td>1</td>\n",
       "      <td>NaT</td>\n",
       "      <td>NaN</td>\n",
       "      <td>NaN</td>\n",
       "      <td>OOS: Raise urgent PO / consider delist temp / ...</td>\n",
       "    </tr>\n",
       "    <tr>\n",
       "      <th>2</th>\n",
       "      <td>1003</td>\n",
       "      <td>Retinol Cream 50ml</td>\n",
       "      <td>Skincare</td>\n",
       "      <td>Dermaglow</td>\n",
       "      <td>-2925.0</td>\n",
       "      <td>1</td>\n",
       "      <td>1</td>\n",
       "      <td>NaT</td>\n",
       "      <td>NaN</td>\n",
       "      <td>NaN</td>\n",
       "      <td>OOS: Raise urgent PO / consider delist temp / ...</td>\n",
       "    </tr>\n",
       "    <tr>\n",
       "      <th>3</th>\n",
       "      <td>1021</td>\n",
       "      <td>Exfoliating Toner 200ml</td>\n",
       "      <td>Skincare</td>\n",
       "      <td>Dermaglow</td>\n",
       "      <td>-2923.0</td>\n",
       "      <td>1</td>\n",
       "      <td>1</td>\n",
       "      <td>NaT</td>\n",
       "      <td>NaN</td>\n",
       "      <td>NaN</td>\n",
       "      <td>OOS: Raise urgent PO / consider delist temp / ...</td>\n",
       "    </tr>\n",
       "    <tr>\n",
       "      <th>4</th>\n",
       "      <td>1019</td>\n",
       "      <td>Beard Oil 30ml</td>\n",
       "      <td>Grooming</td>\n",
       "      <td>Groompro</td>\n",
       "      <td>-2907.0</td>\n",
       "      <td>1</td>\n",
       "      <td>1</td>\n",
       "      <td>NaT</td>\n",
       "      <td>NaN</td>\n",
       "      <td>NaN</td>\n",
       "      <td>OOS: Raise urgent PO / consider delist temp / ...</td>\n",
       "    </tr>\n",
       "    <tr>\n",
       "      <th>5</th>\n",
       "      <td>1011</td>\n",
       "      <td>Lip Balm 10g</td>\n",
       "      <td>Skincare</td>\n",
       "      <td>Dermaglow</td>\n",
       "      <td>-2895.0</td>\n",
       "      <td>1</td>\n",
       "      <td>1</td>\n",
       "      <td>NaT</td>\n",
       "      <td>NaN</td>\n",
       "      <td>NaN</td>\n",
       "      <td>OOS: Raise urgent PO / consider delist temp / ...</td>\n",
       "    </tr>\n",
       "    <tr>\n",
       "      <th>6</th>\n",
       "      <td>1015</td>\n",
       "      <td>Hand Cream 50ml</td>\n",
       "      <td>Bodycare</td>\n",
       "      <td>Bodysoft</td>\n",
       "      <td>-2820.0</td>\n",
       "      <td>1</td>\n",
       "      <td>1</td>\n",
       "      <td>2026-01-02</td>\n",
       "      <td>332.0</td>\n",
       "      <td>26.0</td>\n",
       "      <td>OOS: Expedite inbound / Pull forward PO / Reba...</td>\n",
       "    </tr>\n",
       "    <tr>\n",
       "      <th>7</th>\n",
       "      <td>1012</td>\n",
       "      <td>Clay Mask 75ml</td>\n",
       "      <td>Skincare</td>\n",
       "      <td>Pureclean</td>\n",
       "      <td>-2772.0</td>\n",
       "      <td>1</td>\n",
       "      <td>1</td>\n",
       "      <td>NaT</td>\n",
       "      <td>NaN</td>\n",
       "      <td>NaN</td>\n",
       "      <td>OOS: Raise urgent PO / consider delist temp / ...</td>\n",
       "    </tr>\n",
       "    <tr>\n",
       "      <th>8</th>\n",
       "      <td>1024</td>\n",
       "      <td>Moisturizer Gel 50ml</td>\n",
       "      <td>Skincare</td>\n",
       "      <td>Dermaglow</td>\n",
       "      <td>-2758.0</td>\n",
       "      <td>1</td>\n",
       "      <td>1</td>\n",
       "      <td>2026-01-02</td>\n",
       "      <td>228.0</td>\n",
       "      <td>26.0</td>\n",
       "      <td>OOS: Expedite inbound / Pull forward PO / Reba...</td>\n",
       "    </tr>\n",
       "    <tr>\n",
       "      <th>9</th>\n",
       "      <td>1026</td>\n",
       "      <td>Ceramide Moisturizer 50ml</td>\n",
       "      <td>Skincare</td>\n",
       "      <td>Dermaglow</td>\n",
       "      <td>-2738.0</td>\n",
       "      <td>1</td>\n",
       "      <td>1</td>\n",
       "      <td>NaT</td>\n",
       "      <td>NaN</td>\n",
       "      <td>NaN</td>\n",
       "      <td>OOS: Raise urgent PO / consider delist temp / ...</td>\n",
       "    </tr>\n",
       "  </tbody>\n",
       "</table>\n",
       "</div>"
      ],
      "text/plain": [
       "   product_id               product_name  category      brand  soh_units  \\\n",
       "0        1005    Hyaluronic Acid 2% 30ml  Skincare  Dermaglow    -3036.0   \n",
       "1        1023             AHA Serum 30ml  Skincare  Dermaglow    -2984.0   \n",
       "2        1003         Retinol Cream 50ml  Skincare  Dermaglow    -2925.0   \n",
       "3        1021    Exfoliating Toner 200ml  Skincare  Dermaglow    -2923.0   \n",
       "4        1019             Beard Oil 30ml  Grooming   Groompro    -2907.0   \n",
       "5        1011               Lip Balm 10g  Skincare  Dermaglow    -2895.0   \n",
       "6        1015            Hand Cream 50ml  Bodycare   Bodysoft    -2820.0   \n",
       "7        1012             Clay Mask 75ml  Skincare  Pureclean    -2772.0   \n",
       "8        1024       Moisturizer Gel 50ml  Skincare  Dermaglow    -2758.0   \n",
       "9        1026  Ceramide Moisturizer 50ml  Skincare  Dermaglow    -2738.0   \n",
       "\n",
       "   low_stock_flag  oos_flag   next_eta  next_eta_units  days_to_eta  \\\n",
       "0               1         1        NaT             NaN          NaN   \n",
       "1               1         1        NaT             NaN          NaN   \n",
       "2               1         1        NaT             NaN          NaN   \n",
       "3               1         1        NaT             NaN          NaN   \n",
       "4               1         1        NaT             NaN          NaN   \n",
       "5               1         1        NaT             NaN          NaN   \n",
       "6               1         1 2026-01-02           332.0         26.0   \n",
       "7               1         1        NaT             NaN          NaN   \n",
       "8               1         1 2026-01-02           228.0         26.0   \n",
       "9               1         1        NaT             NaN          NaN   \n",
       "\n",
       "                                  recommended_action  \n",
       "0  OOS: Raise urgent PO / consider delist temp / ...  \n",
       "1  OOS: Raise urgent PO / consider delist temp / ...  \n",
       "2  OOS: Raise urgent PO / consider delist temp / ...  \n",
       "3  OOS: Raise urgent PO / consider delist temp / ...  \n",
       "4  OOS: Raise urgent PO / consider delist temp / ...  \n",
       "5  OOS: Raise urgent PO / consider delist temp / ...  \n",
       "6  OOS: Expedite inbound / Pull forward PO / Reba...  \n",
       "7  OOS: Raise urgent PO / consider delist temp / ...  \n",
       "8  OOS: Expedite inbound / Pull forward PO / Reba...  \n",
       "9  OOS: Raise urgent PO / consider delist temp / ...  "
      ]
     },
     "metadata": {},
     "output_type": "display_data"
    },
    {
     "name": "stdout",
     "output_type": "stream",
     "text": [
      "\n",
      "=== Low Stock ===\n"
     ]
    },
    {
     "data": {
      "text/html": [
       "<div>\n",
       "<style scoped>\n",
       "    .dataframe tbody tr th:only-of-type {\n",
       "        vertical-align: middle;\n",
       "    }\n",
       "\n",
       "    .dataframe tbody tr th {\n",
       "        vertical-align: top;\n",
       "    }\n",
       "\n",
       "    .dataframe thead th {\n",
       "        text-align: right;\n",
       "    }\n",
       "</style>\n",
       "<table border=\"1\" class=\"dataframe\">\n",
       "  <thead>\n",
       "    <tr style=\"text-align: right;\">\n",
       "      <th></th>\n",
       "      <th>product_id</th>\n",
       "      <th>product_name</th>\n",
       "      <th>category</th>\n",
       "      <th>brand</th>\n",
       "      <th>soh_units</th>\n",
       "      <th>low_stock_flag</th>\n",
       "      <th>oos_flag</th>\n",
       "      <th>next_eta</th>\n",
       "      <th>next_eta_units</th>\n",
       "      <th>days_to_eta</th>\n",
       "      <th>recommended_action</th>\n",
       "    </tr>\n",
       "  </thead>\n",
       "  <tbody>\n",
       "  </tbody>\n",
       "</table>\n",
       "</div>"
      ],
      "text/plain": [
       "Empty DataFrame\n",
       "Columns: [product_id, product_name, category, brand, soh_units, low_stock_flag, oos_flag, next_eta, next_eta_units, days_to_eta, recommended_action]\n",
       "Index: []"
      ]
     },
     "metadata": {},
     "output_type": "display_data"
    },
    {
     "name": "stdout",
     "output_type": "stream",
     "text": [
      "\n",
      "Saved:\n",
      " - output_planning/oos_tracker.csv\n",
      " - output_planning/low_stock_tracker.csv\n",
      " - output_planning/inventory_attention_all.csv\n"
     ]
    }
   ],
   "source": [
    "# 7.4) Out-of-Stock Tracker with ETAs (+ Low-stock attention list)\n",
    "\n",
    "import pandas as pd\n",
    "import numpy as np\n",
    "import os\n",
    "\n",
    "os.makedirs(\"output_planning\", exist_ok=True)\n",
    "\n",
    "# Safety\n",
    "inbound_pos[\"eta\"] = pd.to_datetime(inbound_pos[\"eta\"], errors=\"coerce\")\n",
    "\n",
    "# --- 1) Next inbound per SKU (soonest ETA > today or > latest sales date)\n",
    "today_anchor = max(pd.Timestamp(\"today\").normalize(), sales_enriched[\"order_date\"].max().normalize())\n",
    "\n",
    "next_inbound = (inbound_pos[inbound_pos[\"eta\"] >= today_anchor]\n",
    "                .sort_values([\"product_id\", \"eta\"])\n",
    "                .groupby(\"product_id\", as_index=False)\n",
    "                .first()[[\"product_id\", \"eta\", \"inbound_units\"]]\n",
    "                .rename(columns={\"eta\": \"next_eta\", \"inbound_units\": \"next_eta_units\"}))\n",
    "\n",
    "# --- 2) Join with current inventory status (built in Step 2)\n",
    "inv_cols = [\"product_id\",\"product_name\",\"category\",\"brand\",\"soh_units\",\"low_stock_flag\",\"oos_flag\"]\n",
    "inv_now = inv_status[inv_cols].copy()\n",
    "\n",
    "oos_tracker = (inv_now\n",
    "               .merge(next_inbound, on=\"product_id\", how=\"left\")\n",
    "               .sort_values([\"oos_flag\",\"low_stock_flag\",\"soh_units\"], ascending=[False, False, True]))\n",
    "\n",
    "# Days until ETA (if we have an ETA)\n",
    "oos_tracker[\"days_to_eta\"] = (oos_tracker[\"next_eta\"] - today_anchor).dt.days\n",
    "\n",
    "# Simple recommended action (you can tune rules)\n",
    "def action_row(r):\n",
    "    if r[\"oos_flag\"] == 1:\n",
    "        if pd.notna(r[\"next_eta\"]):\n",
    "            return \"OOS: Expedite inbound / Pull forward PO / Rebalance store stock\"\n",
    "        else:\n",
    "            return \"OOS: Raise urgent PO / consider delist temp / reduce site visibility\"\n",
    "    if r[\"low_stock_flag\"] == 1:\n",
    "        return \"Low stock: throttle promo / reduce samples / check safety stock\"\n",
    "    return \"Healthy\"\n",
    "\n",
    "oos_tracker[\"recommended_action\"] = oos_tracker.apply(action_row, axis=1)\n",
    "\n",
    "# Split views\n",
    "oos_only        = oos_tracker[oos_tracker[\"oos_flag\"] == 1].copy()\n",
    "low_stock_only  = oos_tracker[(oos_tracker[\"oos_flag\"] == 0) & (oos_tracker[\"low_stock_flag\"] == 1)].copy()\n",
    "\n",
    "# Preview\n",
    "print(\"=== OOS ===\")\n",
    "display(oos_only.head(10))\n",
    "print(\"\\n=== Low Stock ===\")\n",
    "display(low_stock_only.head(10))\n",
    "\n",
    "# Save\n",
    "oos_only.to_csv(\"output_planning/oos_tracker.csv\", index=False)\n",
    "low_stock_only.to_csv(\"output_planning/low_stock_tracker.csv\", index=False)\n",
    "oos_tracker.to_csv(\"output_planning/inventory_attention_all.csv\", index=False)\n",
    "\n",
    "print(\"\\nSaved:\")\n",
    "print(\" - output_planning/oos_tracker.csv\")\n",
    "print(\" - output_planning/low_stock_tracker.csv\")\n",
    "print(\" - output_planning/inventory_attention_all.csv\")"
   ]
  },
  {
   "cell_type": "markdown",
   "id": "0a09cd31-af90-4090-b484-faff95f3e887",
   "metadata": {},
   "source": [
    "- Creates an Out‑of‑Stock tracker with next inbound ETA and days to ETA.\n",
    "- Adds recommended actions for planners (expedite, throttle promo, etc.).\n",
    "- Also saves a Low‑stock list for proactive follow‑up."
   ]
  },
  {
   "cell_type": "code",
   "execution_count": 40,
   "id": "aea7fce7-16be-4c73-8147-5ddb648cbff6",
   "metadata": {},
   "outputs": [
    {
     "name": "stdout",
     "output_type": "stream",
     "text": [
      "Saved Excel pack → output_planning/retail_data.xlsx\n"
     ]
    }
   ],
   "source": [
    "# 7.5) Build the Planning Excel Pack (one workbook, many tabs)\n",
    "\n",
    "import os\n",
    "import pandas as pd\n",
    "import numpy as np\n",
    "\n",
    "os.makedirs(\"output_planning\", exist_ok=True)\n",
    "excel_path = \"output_planning/retail_data.xlsx\"\n",
    "\n",
    "# ---------- Inputs assembled earlier ----------\n",
    "# sales_flash_daily      (from Step 1)\n",
    "# inv_status             (from Step 2)\n",
    "# fc_compare             (from Step 3)\n",
    "# oos_only, low_stock_only, oos_tracker (from Step 4)\n",
    "# monthly_revenue, weekday_revenue, new_vs_repeat, customer_revenue (from your viz section)\n",
    "\n",
    "# Fallbacks (in case a cell was skipped)\n",
    "def _safe(name, obj):\n",
    "    if name not in globals():\n",
    "        globals()[name] = obj\n",
    "\n",
    "_safe(\"sales_flash_daily\", pd.DataFrame())\n",
    "_safe(\"inv_status\", pd.DataFrame())\n",
    "_safe(\"fc_compare\", pd.DataFrame())\n",
    "_safe(\"oos_only\", pd.DataFrame())\n",
    "_safe(\"low_stock_only\", pd.DataFrame())\n",
    "_safe(\"oos_tracker\", pd.DataFrame())\n",
    "\n",
    "# Convert series to DataFrame for Excel tabs\n",
    "def series_to_df(s, index_name, value_name):\n",
    "    if isinstance(s, pd.Series):\n",
    "        return s.reset_index().rename(columns={s.index.name or index_name:index_name, s.name or value_name:value_name})\n",
    "    return s\n",
    "\n",
    "monthly_rev_df   = series_to_df(monthly_revenue, \"month\", \"net_revenue\") if 'monthly_revenue' in globals() else pd.DataFrame()\n",
    "weekday_rev_df   = series_to_df(weekday_revenue, \"weekday\", \"net_revenue\") if 'weekday_revenue' in globals() else pd.DataFrame()\n",
    "new_vs_repeat_df = series_to_df(new_vs_repeat, \"segment\", \"net_revenue\") if 'new_vs_repeat' in globals() else pd.DataFrame()\n",
    "\n",
    "# KPI snapshot for cover sheet (simple, fast)\n",
    "kpi_rows = []\n",
    "\n",
    "if 'sales_enriched' in globals():\n",
    "    total_revenue = sales_enriched[\"net_revenue\"].sum()\n",
    "    kpi_rows.append([\"Total Revenue\", f\"{total_revenue:,.0f}\"])\n",
    "    kpi_rows.append([\"Total Orders\",  f\"{sales_enriched['order_id'].nunique():,}\"])\n",
    "    kpi_rows.append([\"Total Units\",   f\"{sales_enriched['qty'].sum():,}\"])\n",
    "\n",
    "if not customer_revenue.empty:\n",
    "    kpi_rows.append([\"Avg CLV (revenue/customer)\", f\"{customer_revenue['customer_total'].mean():,.0f}\"])\n",
    "\n",
    "if not fc_compare.empty and \"abs_perc_error\" in fc_compare:\n",
    "    kpi_rows.append([\"Forecast MAPE (%)\", f\"{fc_compare['abs_perc_error'].mean():.2f}%\"])\n",
    "\n",
    "if not oos_tracker.empty:\n",
    "    kpi_rows.append([\"# OOS SKUs\", int((oos_tracker[\"oos_flag\"]==1).sum())])\n",
    "    kpi_rows.append([\"# Low‑stock SKUs\", int(((oos_tracker[\"oos_flag\"]==0)&(oos_tracker[\"low_stock_flag\"]==1)).sum())])\n",
    "\n",
    "cover_df = pd.DataFrame(kpi_rows, columns=[\"Metric\",\"Value\"])\n",
    "\n",
    "with pd.ExcelWriter(excel_path, engine=\"xlsxwriter\", datetime_format=\"yyyy-mm-dd\") as writer:\n",
    "    # Cover\n",
    "    cover_df.to_excel(writer, sheet_name=\"00_Cover\", index=False)\n",
    "    ws = writer.sheets[\"00_Cover\"]\n",
    "    ws.write(0, 0, \"Metric\")\n",
    "    ws.write(0, 1, \"Value\")\n",
    "    ws.set_column(0, 0, 36)\n",
    "    ws.set_column(1, 1, 28)\n",
    "    ws.write(10, 0, \"Notes\")\n",
    "    ws.write(11, 0, \"• This workbook is auto‑generated from the Retail Data Analysis project.\")\n",
    "    ws.write(12, 0, \"• Tabs mirror daily sales flash, inventory status, forecast accuracy, and OOS tracking.\")\n",
    "\n",
    "    # Sales Flash (daily)\n",
    "    sales_flash_daily.to_excel(writer, sheet_name=\"01_Sales_Flash_Daily\", index=False)\n",
    "\n",
    "    # Trends / Segments\n",
    "    monthly_rev_df.to_excel(writer, sheet_name=\"02_Monthly_Revenue\", index=False)\n",
    "    weekday_rev_df.to_excel(writer, sheet_name=\"03_Weekday_Revenue\", index=False)\n",
    "    new_vs_repeat_df.to_excel(writer, sheet_name=\"04_New_vs_Repeat\", index=False)\n",
    "\n",
    "    # Inventory\n",
    "    inv_status.to_excel(writer, sheet_name=\"05_Inventory_Status\", index=False)\n",
    "    oos_only.to_excel(writer, sheet_name=\"06_OOS\", index=False)\n",
    "    low_stock_only.to_excel(writer, sheet_name=\"07_Low_Stock\", index=False)\n",
    "\n",
    "    # Forecast vs Actual\n",
    "    fc_compare.to_excel(writer, sheet_name=\"08_Forecast_vs_Actual\", index=False)\n",
    "\n",
    "    # Attention list (combined)\n",
    "    oos_tracker.to_excel(writer, sheet_name=\"09_Inventory_Attention\", index=False)\n",
    "\n",
    "print(f\"Saved Excel pack → {excel_path}\")"
   ]
  }
 ],
 "metadata": {
  "kernelspec": {
   "display_name": "Python 3",
   "language": "python",
   "name": "python3"
  },
  "language_info": {
   "codemirror_mode": {
    "name": "ipython",
    "version": 3
   },
   "file_extension": ".py",
   "mimetype": "text/x-python",
   "name": "python",
   "nbconvert_exporter": "python",
   "pygments_lexer": "ipython3",
   "version": "3.8.8"
  }
 },
 "nbformat": 4,
 "nbformat_minor": 5
}
